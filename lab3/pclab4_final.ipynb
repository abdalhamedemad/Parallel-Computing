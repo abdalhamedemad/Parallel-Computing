{
  "cells": [
    {
      "cell_type": "code",
      "execution_count": 2,
      "metadata": {
        "colab": {
          "base_uri": "https://localhost:8080/"
        },
        "id": "a1HInAOf2kwo",
        "outputId": "cca4909b-202f-45fc-bdae-55d9ecd17a9c"
      },
      "outputs": [
        {
          "name": "stdout",
          "output_type": "stream",
          "text": [
            "Collecting git+https://github.com/andreinechaev/nvcc4jupyter.git\n",
            "  Cloning https://github.com/andreinechaev/nvcc4jupyter.git to /tmp/pip-req-build-04fdejy6\n",
            "  Running command git clone --filter=blob:none --quiet https://github.com/andreinechaev/nvcc4jupyter.git /tmp/pip-req-build-04fdejy6\n",
            "  Resolved https://github.com/andreinechaev/nvcc4jupyter.git to commit 5741c522547756ac4bb7a16df32106a15efb8a57\n",
            "  Installing build dependencies ... \u001b[?25l\u001b[?25hdone\n",
            "  Getting requirements to build wheel ... \u001b[?25l\u001b[?25hdone\n",
            "  Preparing metadata (pyproject.toml) ... \u001b[?25l\u001b[?25hdone\n",
            "Building wheels for collected packages: nvcc4jupyter\n",
            "  Building wheel for nvcc4jupyter (pyproject.toml) ... \u001b[?25l\u001b[?25hdone\n",
            "  Created wheel for nvcc4jupyter: filename=nvcc4jupyter-1.2.1-py3-none-any.whl size=10741 sha256=1c43b610d84440f376c57bb0b3d20f87e2433fdb6f06eb98d5fd7c81c461a971\n",
            "  Stored in directory: /tmp/pip-ephem-wheel-cache-blgt89pc/wheels/a8/b9/18/23f8ef71ceb0f63297dd1903aedd067e6243a68ea756d6feea\n",
            "Successfully built nvcc4jupyter\n",
            "Installing collected packages: nvcc4jupyter\n",
            "Successfully installed nvcc4jupyter-1.2.1\n",
            "Detected platform \"Colab\". Running its setup...\n",
            "Source files will be saved in \"/tmp/tmp_c_3_bxs\".\n"
          ]
        }
      ],
      "source": [
        "!pip install git+https://github.com/andreinechaev/nvcc4jupyter.git\n",
        "%load_ext nvcc4jupyter"
      ]
    },
    {
      "cell_type": "code",
      "execution_count": 9,
      "metadata": {
        "colab": {
          "base_uri": "https://localhost:8080/"
        },
        "id": "QknO8sXp2euY",
        "outputId": "a34bde9a-7c6b-4a3a-d9b2-3d0626578d7e"
      },
      "outputs": [
        {
          "name": "stdout",
          "output_type": "stream",
          "text": [
            "fatal: destination path 'stb' already exists and is not an empty directory.\n"
          ]
        }
      ],
      "source": [
        "!git clone https://github.com/nothings/stb.git\n",
        "!cp stb/stb_image.h /usr/local/include/\n",
        "!cp stb/stb_image_write.h /usr/local/include/"
      ]
    },
    {
      "cell_type": "code",
      "execution_count": null,
      "metadata": {
        "id": "51NLAOEP8vWU"
      },
      "outputs": [],
      "source": [
        "from google.colab import drive\n",
        "drive.mount('/content/drive')"
      ]
    },
    {
      "cell_type": "code",
      "execution_count": null,
      "metadata": {
        "colab": {
          "base_uri": "https://localhost:8080/"
        },
        "id": "zwrzyBGI3kz_",
        "outputId": "d3df19e7-c99a-4387-8ae1-059ec39b9a13"
      },
      "outputs": [
        {
          "name": "stdout",
          "output_type": "stream",
          "text": [
            "Writing mask.txt\n"
          ]
        }
      ],
      "source": [
        "%%writefile mask.txt\n",
        "3\n",
        "0 0 0\n",
        "0 1 0\n",
        "0 0 0"
      ]
    },
    {
      "cell_type": "code",
      "execution_count": 10,
      "metadata": {
        "colab": {
          "base_uri": "https://localhost:8080/"
        },
        "id": "1Gue-jsB15tq",
        "outputId": "ee092612-dd09-4fde-94d6-5a9329a4885b"
      },
      "outputs": [
        {
          "name": "stdout",
          "output_type": "stream",
          "text": [
            "Overwriting k1.cu\n"
          ]
        }
      ],
      "source": [
        "%%writefile k1.cu\n",
        "// %%writefile k1.cu\n",
        "#define STB_IMAGE_IMPLEMENTATION\n",
        "#define K 3\n",
        "#include <stdio.h>\n",
        "\n",
        "#include \"stb_image.h\"\n",
        "#define STB_IMAGE_WRITE_IMPLEMENTATION\n",
        "#include \"stb_image_write.h\"\n",
        "// #include <windows.h>\n",
        "#include <filesystem>\n",
        "#include <string>\n",
        "#include <vector>\n",
        "#include <iostream>\n",
        "\n",
        "\n",
        "#define STB_IMAGE_IMPLEMENTATION\n",
        "#define STB_IMAGE_WRITE_IMPLEMENTATION\n",
        "#define MASK_DIM 3\n",
        "\n",
        "// __constant__ float mask[MASK_DIM * MASK_DIM];\n",
        "\n",
        "// __global__\n",
        "// void convolution_3D_batch_kernel(unsigned char *in, unsigned char *out, int w, int h, int comp, int batch_size) {\n",
        "//     int Col = blockIdx.x * blockDim.x + threadIdx.x;\n",
        "//     int Row = blockIdx.y * blockDim.y + threadIdx.y;\n",
        "//     int image_idx = blockIdx.z;\n",
        "\n",
        "//     if (Col < w && Row < h) {\n",
        "//         int pixVal_R = 0;\n",
        "//         int pixVal_G = 0;\n",
        "//         int pixVal_B = 0;\n",
        "//         int N_start_col = Col - (MASK_DIM/2);\n",
        "//         int N_start_row = Row - (MASK_DIM/2);\n",
        "\n",
        "//             if (image_idx < batch_size) {\n",
        "//             int index_base = image_idx * (w * h * comp);\n",
        "//             for(int j = 0; j < MASK_DIM; ++j) {\n",
        "//                 for(int k = 0; k < MASK_DIM; ++k) {\n",
        "//                     int curRow = N_start_row + j;\n",
        "//                     int curCol = N_start_col + k;\n",
        "//                     if(curRow > -1 && curRow < h && curCol > -1 && curCol < w) {\n",
        "//                         int index = index_base + ((curRow * w + curCol) * comp);\n",
        "//                         float mask_value = mask[j * MASK_DIM + k];\n",
        "//                         pixVal_R += in[index] * mask_value;\n",
        "//                         pixVal_G += in[index + 1] * mask_value;\n",
        "//                         pixVal_B += in[index + 2] * mask_value;\n",
        "//                     }\n",
        "//                 }\n",
        "//             }\n",
        "//         }\n",
        "\n",
        "//         int index = ((image_idx * w * h) + (Row * w + Col));\n",
        "//         out[index] = ((unsigned char)(pixVal_R) + (unsigned char)(pixVal_G) + (unsigned char)(pixVal_B))/3;\n",
        "//     }\n",
        "// }\n",
        "\n",
        "__global__\n",
        "void convolution_3D_batch_kernelDA(unsigned char *in, unsigned char *out, int w, int h, int comp, int batch_size, float *mask,int mask_dim) {\n",
        "    extern __shared__ float shared_mask[];\n",
        "    int Col = blockIdx.x * blockDim.x + threadIdx.x;\n",
        "    int Row = blockIdx.y * blockDim.y + threadIdx.y;\n",
        "    int image_idx = blockIdx.z;\n",
        "    // if (threadIdx.x < mask_dim && threadIdx.y < mask_dim) {\n",
        "    //     shared_mask[threadIdx.y * mask_dim + threadIdx.x] = mask[threadIdx.y * mask_dim + threadIdx.x];\n",
        "    // }\n",
        "    // the mask size could exceed the block size\n",
        "    for (int i = threadIdx.y; i < mask_dim; i += blockDim.y) {\n",
        "        for (int j = threadIdx.x; j < mask_dim; j += blockDim.x) {\n",
        "            if ( i < mask_dim && j < mask_dim) {\n",
        "                shared_mask[i * mask_dim + j] = mask[i * mask_dim + j];\n",
        "            }\n",
        "        }\n",
        "    }\n",
        "    __syncthreads();\n",
        "\n",
        "    if (Col < w && Row < h) {\n",
        "        float pixVal_R = 0;\n",
        "        float pixVal_G = 0;\n",
        "        float pixVal_B = 0;\n",
        "        int N_start_col = Col - (mask_dim/2);\n",
        "        int N_start_row = Row - (mask_dim/2);\n",
        "\n",
        "        if (image_idx < batch_size) {\n",
        "            int index_base = image_idx * (w * h * comp);\n",
        "            for(int j = 0; j < mask_dim; ++j) {\n",
        "                for(int k = 0; k < mask_dim; ++k) {\n",
        "                    int curRow = N_start_row + j;\n",
        "                    int curCol = N_start_col + k;\n",
        "                    if(curRow > -1 && curRow < h && curCol > -1 && curCol < w) {\n",
        "                        int index = index_base + ((curRow * w + curCol) * comp);\n",
        "                        float mask_value = shared_mask[j * mask_dim + k];\n",
        "                        pixVal_R += in[index] * mask_value;\n",
        "                        pixVal_G += in[index + 1] * mask_value;\n",
        "                        pixVal_B += in[index + 2] * mask_value;\n",
        "                    }\n",
        "                }\n",
        "            }\n",
        "        }\n",
        "\n",
        "        int index = ((image_idx * w * h) + (Row * w + Col));\n",
        "        // out[index] = ((unsigned char)(pixVal_R) + (unsigned char)(pixVal_G) + (unsigned char)(pixVal_B));\n",
        "        // max between 0 and min between 255 and the value\n",
        "        out[index] = (unsigned char) max(0, min(255, (unsigned char) (pixVal_R + pixVal_G + pixVal_B)));\n",
        "    }\n",
        "}\n",
        "\n",
        "std::vector<std::string> listFiles(const std::string &folderPath) {\n",
        "    std::vector<std::string> files;\n",
        "\n",
        "    try {\n",
        "        for (const auto &entry : std::filesystem::directory_iterator(folderPath)) {\n",
        "            if (!entry.is_directory()) {\n",
        "                files.push_back(entry.path().filename().string());\n",
        "            }\n",
        "        }\n",
        "    } catch (const std::filesystem::filesystem_error &e) {\n",
        "        std::cerr << \"Error reading directory: \" << e.what() << std::endl;\n",
        "    }\n",
        "\n",
        "    return files;\n",
        "}\n",
        "\n",
        "// std::vector<std::string> listFiles(const std::string &folderPath) {\n",
        "//   std::vector<std::string> files;\n",
        "\n",
        "//       WIN32_FIND_DATA findFileData;\n",
        "//       HANDLE hFind = FindFirstFile((folderPath + \"\\\\*\").c_str(), &findFileData);\n",
        "//       if (hFind == INVALID_HANDLE_VALUE) {\n",
        "//           std::cerr << \"Error opening directory! Error code: \" << GetLastError() << std::endl;\n",
        "//           return files;\n",
        "//       }\n",
        "\n",
        "//       do {\n",
        "//           // Exclude directories \".\" and \"..\"\n",
        "//           if (strcmp(findFileData.cFileName, \".\") != 0 && strcmp(findFileData.cFileName, \"..\") != 0) {\n",
        "//               // Add file name to vector\n",
        "//               files.push_back(findFileData.cFileName);\n",
        "//           }\n",
        "//       } while (FindNextFile(hFind, &findFileData) != 0);\n",
        "\n",
        "//       DWORD dwError = GetLastError();\n",
        "//       if (dwError != ERROR_NO_MORE_FILES) {\n",
        "//           std::cerr << \"Error reading directory! Error code: \" << dwError << std::endl;\n",
        "//       }\n",
        "\n",
        "//       FindClose(hFind);\n",
        "\n",
        "//       return files;\n",
        "// }\n",
        "\n",
        "int main(int argc, char *argv[]) {\n",
        "    if (argc != 5) {\n",
        "        printf(\"Usage: %s input_folder_path output_folder_path batch_size mask.txt\\n\", argv[0]);\n",
        "        return 1;\n",
        "    }\n",
        "\n",
        "    FILE *mask_file = fopen(argv[4], \"r\");\n",
        "    if (!mask_file) {\n",
        "        printf(\"Error opening mask file!\\n\");\n",
        "        return 1;\n",
        "    }\n",
        "\n",
        "    int mask_dim;\n",
        "    fscanf(mask_file, \"%d\", &mask_dim);\n",
        "    float *host_mask = new float[mask_dim * mask_dim];\n",
        "    for (int i = 0; i < mask_dim; ++i) {\n",
        "        for (int j = 0; j < mask_dim; ++j) {\n",
        "            fscanf(mask_file, \"%f\", &host_mask[i * mask_dim + j]);\n",
        "        }\n",
        "    }\n",
        "    fclose(mask_file);\n",
        "    float *d_mask;\n",
        "    cudaMalloc(&d_mask, mask_dim * mask_dim * sizeof(float));\n",
        "    cudaMemcpy(d_mask, host_mask, mask_dim * mask_dim * sizeof(float), cudaMemcpyHostToDevice);\n",
        "\n",
        "    printf(\"Reading image...\\n\");\n",
        "\n",
        "    std::vector<std::string> files = listFiles(argv[1]);\n",
        "    int batch_size = atoi(argv[3]);\n",
        "    int width, height, comp;\n",
        "    unsigned char *d_in, *d_out;\n",
        "\n",
        "    std::vector<unsigned char> imageData;\n",
        "    int totalSize = 0;\n",
        "    for (int b = 0; b < batch_size; ++b) {\n",
        "        char input_image_path[100];\n",
        "        sprintf(input_image_path, \"%s/%s\", argv[1], files[b].c_str());\n",
        "        unsigned char *data = stbi_load(input_image_path, &width, &height, &comp, 0);\n",
        "        int size = width * height * comp;\n",
        "        totalSize += size;\n",
        "        std::cout << \"width = \" << width << \", height = \" << height << \", comp = \" << comp << std::endl;\n",
        "        imageData.insert(imageData.end(), data, data + size);\n",
        "        stbi_image_free(data);\n",
        "    }\n",
        "\n",
        "    cudaMalloc(&d_in, batch_size * width * height * comp);\n",
        "    cudaMalloc(&d_out, batch_size * width * height);\n",
        "    std::cout << \"Size of the vector: \" << imageData.size() << std::endl;\n",
        "\n",
        "    cudaMemcpy(d_in, imageData.data(), totalSize * sizeof(unsigned char), cudaMemcpyHostToDevice);\n",
        "\n",
        "        // convolution_3D_batch_kernel<<<dim3((width + 16 - 1) / 16, (height + 16 - 1) / 16, batch_size), dim3(16, 16)>>>(d_in, d_out, width, height, comp, batch_size);\n",
        "        convolution_3D_batch_kernelDA<<<dim3((width + 16 - 1) / 16, (height + 16 - 1) / 16, batch_size), dim3(16, 16), mask_dim * mask_dim * sizeof(float)>>>(d_in, d_out, width, height, comp, batch_size, d_mask,mask_dim);\n",
        "        unsigned char *out = (unsigned char *)malloc(batch_size * width * height);\n",
        "        cudaMemcpy(out, d_out, batch_size * width * height, cudaMemcpyDeviceToHost);\n",
        "\n",
        "        for (int b = 0; b < batch_size; ++b) {\n",
        "            char output_image_path[100];\n",
        "            sprintf(output_image_path, \"%s/image_%d.jpg\", argv[2], b);\n",
        "            stbi_write_jpg(output_image_path, width, height, 1, out + b * (width * height), 100);\n",
        "        }\n",
        "\n",
        "        free(out);\n",
        "        cudaFree(d_in);\n",
        "        cudaFree(d_out);\n",
        "\n",
        "        return 0;\n",
        "}\n",
        "\n",
        "\n"
      ]
    },
    {
      "cell_type": "code",
      "execution_count": 11,
      "metadata": {
        "id": "XxYazuxg2Dv4"
      },
      "outputs": [],
      "source": [
        "!nvcc ./k1.cu -o k1.out"
      ]
    },
    {
      "cell_type": "code",
      "execution_count": null,
      "metadata": {
        "colab": {
          "base_uri": "https://localhost:8080/"
        },
        "id": "ifpnxLvg2dgh",
        "outputId": "a8bf0770-2459-47fd-cdac-e12ae050365d"
      },
      "outputs": [
        {
          "name": "stdout",
          "output_type": "stream",
          "text": [
            "Error opening mask file!\n"
          ]
        }
      ],
      "source": [
        " !./k1.out img out 3  mask.txt"
      ]
    },
    {
      "cell_type": "code",
      "execution_count": 12,
      "metadata": {
        "colab": {
          "base_uri": "https://localhost:8080/"
        },
        "id": "QMx9NpsRloh3",
        "outputId": "6cd81ba0-adcf-4720-ef9e-d7d811ab70c1"
      },
      "outputs": [
        {
          "name": "stdout",
          "output_type": "stream",
          "text": [
            "Writing mask5.txt\n"
          ]
        }
      ],
      "source": [
        "%%writefile mask5.txt\n",
        "5\n",
        "0 0 0 0 0\n",
        "0 0 0 0 0\n",
        "0 0 1 0 0\n",
        "0 0 0 0 0\n",
        "0 0 0 0 0"
      ]
    },
    {
      "cell_type": "code",
      "execution_count": 13,
      "metadata": {
        "colab": {
          "base_uri": "https://localhost:8080/"
        },
        "id": "0xqvdlI0pGz8",
        "outputId": "aac6b16a-0948-4130-948e-e1b76fe164e8"
      },
      "outputs": [
        {
          "name": "stdout",
          "output_type": "stream",
          "text": [
            "Writing mask7.txt\n"
          ]
        }
      ],
      "source": [
        "%%writefile mask7.txt\n",
        "7\n",
        "0 0 0 0 0 0 0\n",
        "0 0 0 0 0 0 0\n",
        "0 0 0 0 0 0 0\n",
        "0 0 0 1 0 0 0\n",
        "0 0 0 0 0 0 0\n",
        "0 0 0 0 0 0 0\n",
        "0 0 0 0 0 0 0"
      ]
    },
    {
      "cell_type": "code",
      "execution_count": 14,
      "metadata": {
        "colab": {
          "base_uri": "https://localhost:8080/"
        },
        "id": "3vECig_uqiKn",
        "outputId": "91640e52-2d17-442f-870d-eb0801263425"
      },
      "outputs": [
        {
          "name": "stdout",
          "output_type": "stream",
          "text": [
            "Writing mask9.txt\n"
          ]
        }
      ],
      "source": [
        "%%writefile mask9.txt\n",
        "9\n",
        "0 0 0 0 0 0 0 0 0\n",
        "0 0 0 0 0 0 0 0 0\n",
        "0 0 0 0 0 0 0 0 0\n",
        "0 0 0 0 0 0 0 0 0\n",
        "0 0 0 0 1 0 0 0 0\n",
        "0 0 0 0 0 0 0 0 0\n",
        "0 0 0 0 0 0 0 0 0\n",
        "0 0 0 0 0 0 0 0 0\n",
        "0 0 0 0 0 0 0 0 0"
      ]
    },
    {
      "cell_type": "markdown",
      "metadata": {
        "id": "rh7jriZFpZIW"
      },
      "source": []
    },
    {
      "cell_type": "code",
      "execution_count": null,
      "metadata": {
        "id": "e_XMhaa9qwiX"
      },
      "outputs": [],
      "source": []
    },
    {
      "cell_type": "code",
      "execution_count": null,
      "metadata": {
        "colab": {
          "base_uri": "https://localhost:8080/"
        },
        "id": "YCOI99T4oa8x",
        "outputId": "3d9ed886-713e-4c3d-d3a7-aa8e1e78f6e1"
      },
      "outputs": [
        {
          "name": "stdout",
          "output_type": "stream",
          "text": [
            "==5902== NVPROF is profiling process 5902, command: ./k1.out img out 3 mask9.txt\n",
            "Reading image...\n",
            "width = 5000, height = 5000, comp = 3\n",
            "width = 5000, height = 5000, comp = 3\n",
            "width = 5000, height = 5000, comp = 3\n",
            "Size of the vector: 225000000\n",
            "==5902== Profiling application: ./k1.out img out 3 mask9.txt\n",
            "==5902== Profiling result:\n",
            "            Type  Time(%)      Time     Calls       Avg       Min       Max  Name\n",
            " GPU activities:   57.02%  133.73ms         1  133.73ms  133.73ms  133.73ms  convolution_3D_batch_kernelDA(unsigned char*, unsigned char*, int, int, int, int, float*, int)\n",
            "                   22.42%  52.576ms         1  52.576ms  52.576ms  52.576ms  [CUDA memcpy DtoH]\n",
            "                   20.56%  48.220ms         2  24.110ms  1.1520us  48.219ms  [CUDA memcpy HtoD]\n",
            "      API calls:   55.64%  235.98ms         3  78.660ms  21.590us  187.50ms  cudaMemcpy\n",
            "                   43.60%  184.93ms         3  61.642ms  163.30us  184.30ms  cudaMalloc\n",
            "                    0.66%  2.8163ms         2  1.4082ms  565.63us  2.2507ms  cudaFree\n",
            "                    0.06%  260.24us         1  260.24us  260.24us  260.24us  cudaLaunchKernel\n",
            "                    0.03%  138.96us       114  1.2180us     155ns  54.841us  cuDeviceGetAttribute\n",
            "                    0.00%  11.585us         1  11.585us  11.585us  11.585us  cuDeviceGetName\n",
            "                    0.00%  5.4480us         1  5.4480us  5.4480us  5.4480us  cuDeviceGetPCIBusId\n",
            "                    0.00%  4.8910us         1  4.8910us  4.8910us  4.8910us  cuDeviceTotalMem\n",
            "                    0.00%  1.6490us         3     549ns     189ns  1.1910us  cuDeviceGetCount\n",
            "                    0.00%  1.1120us         2     556ns     230ns     882ns  cuDeviceGet\n",
            "                    0.00%     926ns         1     926ns     926ns     926ns  cuModuleGetLoadingMode\n",
            "                    0.00%     261ns         1     261ns     261ns     261ns  cuDeviceGetUuid\n"
          ]
        }
      ],
      "source": [
        "!nvprof ./k1.out img out 3 mask9.txt"
      ]
    },
    {
      "cell_type": "code",
      "execution_count": null,
      "metadata": {
        "colab": {
          "base_uri": "https://localhost:8080/"
        },
        "id": "-IMJwPVcqzpl",
        "outputId": "2602c1bd-d8a0-4387-e671-d19959b19a31"
      },
      "outputs": [
        {
          "data": {
            "text/plain": [
              "True"
            ]
          },
          "execution_count": 24,
          "metadata": {},
          "output_type": "execute_result"
        }
      ],
      "source": [
        "# import cv2\n",
        "# image = cv2.imread('img/image_0.jpg')\n",
        "# cv2.imwrite('img/image_2.jpg', image)"
      ]
    },
    {
      "cell_type": "code",
      "execution_count": null,
      "metadata": {
        "colab": {
          "base_uri": "https://localhost:8080/"
        },
        "id": "eWwRjXteoarK",
        "outputId": "7b6cfcbc-5c07-4e5d-a4c8-5063946a8b33"
      },
      "outputs": [
        {
          "name": "stdout",
          "output_type": "stream",
          "text": [
            "Reading image...\n",
            "width = 5000, height = 5000, comp = 3\n",
            "width = 5000, height = 5000, comp = 3\n",
            "width = 5000, height = 5000, comp = 3\n",
            "==5999== NVPROF is profiling process 5999, command: ./k3.out img out 3 mask9.txt\n",
            "Size of the vector: 225000000\n",
            "==5999== Profiling application: ./k3.out img out 3 mask9.txt\n",
            "==5999== Profiling result:\n",
            "            Type  Time(%)      Time     Calls       Avg       Min       Max  Name\n",
            " GPU activities:   51.91%  108.98ms         1  108.98ms  108.98ms  108.98ms  convolution_3D_input_kernelwds(unsigned char*, unsigned char*, int, int, int, int, int, float*)\n",
            "                   25.30%  53.120ms         1  53.120ms  53.120ms  53.120ms  [CUDA memcpy DtoH]\n",
            "                   22.79%  47.849ms         2  23.925ms  1.1840us  47.848ms  [CUDA memcpy HtoD]\n",
            "      API calls:   51.97%  211.31ms         3  70.435ms  16.003us  163.22ms  cudaMemcpy\n",
            "                   47.56%  193.37ms         3  64.456ms  147.34us  193.05ms  cudaMalloc\n",
            "                    0.37%  1.4868ms         2  743.41us  391.53us  1.0953ms  cudaFree\n",
            "                    0.07%  268.65us         1  268.65us  268.65us  268.65us  cudaLaunchKernel\n",
            "                    0.03%  132.07us       114  1.1580us     144ns  50.997us  cuDeviceGetAttribute\n",
            "                    0.00%  10.694us         1  10.694us  10.694us  10.694us  cuDeviceGetName\n",
            "                    0.00%  5.4660us         1  5.4660us  5.4660us  5.4660us  cuDeviceGetPCIBusId\n",
            "                    0.00%  4.4390us         1  4.4390us  4.4390us  4.4390us  cuDeviceTotalMem\n",
            "                    0.00%  1.5730us         3     524ns     207ns  1.0270us  cuDeviceGetCount\n",
            "                    0.00%  1.1760us         2     588ns     175ns  1.0010us  cuDeviceGet\n",
            "                    0.00%     454ns         1     454ns     454ns     454ns  cuModuleGetLoadingMode\n",
            "                    0.00%     207ns         1     207ns     207ns     207ns  cuDeviceGetUuid\n"
          ]
        }
      ],
      "source": [
        "!nvprof ./k3.out img out 3 mask9.txt"
      ]
    },
    {
      "cell_type": "code",
      "execution_count": null,
      "metadata": {
        "colab": {
          "base_uri": "https://localhost:8080/"
        },
        "id": "_QJ_hbvd4QUO",
        "outputId": "9e6bf6fc-b7b3-4809-dafd-8ce7cc5088b6"
      },
      "outputs": [
        {
          "name": "stdout",
          "output_type": "stream",
          "text": [
            "======== Error: application not found.\n"
          ]
        }
      ],
      "source": [
        "!nvprof ./k2.out img out 3 mask9.txt"
      ]
    },
    {
      "cell_type": "code",
      "execution_count": 65,
      "metadata": {
        "colab": {
          "base_uri": "https://localhost:8080/"
        },
        "id": "pR5d5mHv4rX-",
        "outputId": "6e696bf7-e1dd-48ea-f45c-32b32af2d375"
      },
      "outputs": [
        {
          "name": "stdout",
          "output_type": "stream",
          "text": [
            "Overwriting k2.cu\n"
          ]
        }
      ],
      "source": [
        "%%writefile k2.cu\n",
        "// %%writefile k3.cu\n",
        "//input tile\n",
        "#define STB_IMAGE_IMPLEMENTATION\n",
        "#define K 3\n",
        "#include <stdio.h>\n",
        "\n",
        "#include \"stb_image.h\"\n",
        "#define STB_IMAGE_WRITE_IMPLEMENTATION\n",
        "#include \"stb_image_write.h\"\n",
        "// #include <windows.h>\n",
        "#include <filesystem>\n",
        "#include <string>\n",
        "#include <vector>\n",
        "#include <iostream>\n",
        "\n",
        "\n",
        "#define STB_IMAGE_IMPLEMENTATION\n",
        "#define STB_IMAGE_WRITE_IMPLEMENTATION\n",
        "#define MASK_DIM 3\n",
        "// #define MASK_DIM 3\n",
        "#define THREADS_PER_BLOCK_X 18\n",
        "#define THREADS_PER_BLOCK_Y 18\n",
        "#define MASK_WIDTH 3\n",
        "#define MASK_RADIUS 1\n",
        "\n",
        "#define  O_TILE_WIDTH 16\n",
        "#define  BLOCK_WIDTH 32\n",
        "\n",
        "\n",
        "__global__\n",
        "void convolution_3D_input_kernelwds(unsigned char * in, unsigned char * out, int w, int h, int comp, int batch_size,int maskWidth, float * mask2,int output_tile_dim) {\n",
        "    // int Col = blockIdx.x * blockDim.x + threadIdx.x;\n",
        "    // int Row = blockIdx.y * blockDim.y + threadIdx.y;\n",
        "    int image_idx = blockIdx.z;\n",
        "    int threads_per_block_x = blockDim.x;\n",
        "    int threads_per_block_y = blockDim.y;\n",
        "    /////////////////\n",
        "    // int shared_mem_size = (threads_per_block_y ) * (threads_per_block_x) * 3 * sizeof(unsigned char);\n",
        "\n",
        "    // Dynamically allocate shared memory for tiles\n",
        "    extern __shared__ unsigned char shared_mem[];\n",
        "    // each thread loads one element from the input list into the shared memory\n",
        "    unsigned char* tile_R = shared_mem;\n",
        "    unsigned char* tile_G = tile_R + (threads_per_block_y ) * (threads_per_block_x );\n",
        "    unsigned char* tile_B = tile_G + (threads_per_block_y ) * (threads_per_block_x );\n",
        "\n",
        "    float *mask3 = (float*)(tile_B + (threads_per_block_y ) * (threads_per_block_x ));\n",
        "    // if (threadIdx.x < maskWidth && threadIdx.y < maskWidth) {\n",
        "    //     mask3[threadIdx.y * maskWidth + threadIdx.x] = mask2[threadIdx.y * maskWidth + threadIdx.x];\n",
        "    // }\n",
        "    for (int i = threadIdx.y; i < maskWidth; i += blockDim.y) {\n",
        "        for (int j = threadIdx.x; j < maskWidth; j += blockDim.x) {\n",
        "            if ( i < maskWidth && j < maskWidth) {\n",
        "                mask3[i * maskWidth + j] = mask2[i * maskWidth + j];\n",
        "            }\n",
        "        }\n",
        "    }\n",
        "\n",
        "    int tx = threadIdx.x;\n",
        "    int ty = threadIdx.y;\n",
        "    // output tile indeces\n",
        "    int row_o = blockIdx.y * output_tile_dim + ty;\n",
        "    int col_o = blockIdx.x * output_tile_dim + tx;\n",
        "    ///////////////////////////\n",
        "    // input tile indeces\n",
        "    int row_i = row_o - maskWidth/2;\n",
        "    int col_i = col_o - maskWidth/2;\n",
        "    ////////////////////\n",
        "    int tile_idx = (ty) * (threads_per_block_x) + (tx);\n",
        "    if (image_idx < batch_size){\n",
        "\n",
        "    if (row_i >= 0 && row_i < h && col_i >= 0 && col_i < w) {\n",
        "        tile_R[tile_idx] = in[(image_idx * w * h * comp) + (row_i * w + col_i) * comp];\n",
        "        tile_G[tile_idx] = in[(image_idx * w * h * comp) + (row_i * w + col_i) * comp + 1];\n",
        "        tile_B[tile_idx] = in[(image_idx * w * h * comp) + (row_i * w + col_i) * comp + 2];\n",
        "    } else {\n",
        "        tile_R[tile_idx] = 0;\n",
        "        tile_G[tile_idx] = 0;\n",
        "        tile_B[tile_idx] = 0;\n",
        "    }\n",
        "    __syncthreads();\n",
        "    // printf(\"gg\");\n",
        "    if (row_o < h && col_o < w && ty <  output_tile_dim && tx < output_tile_dim){\n",
        "        float sum = 0;\n",
        "        float maskValue;\n",
        "        for (int i = 0; i < maskWidth; i++)\n",
        "        {\n",
        "            for (int j = 0; j < maskWidth; j++)\n",
        "            {\n",
        "               // int tile_idx = (ty + i) * (threads_per_block_x) + (tx + j);\n",
        "                maskValue= mask3[i * maskWidth + j];\n",
        "                sum += tile_R[(ty + i) * (threads_per_block_x) + (tx + j)] * maskValue + tile_G[(ty + i) * (threads_per_block_x) + (tx + j)] *maskValue + tile_B[(ty + i) * (threads_per_block_x) + (tx + j)] * maskValue;\n",
        "            }\n",
        "        }\n",
        "\n",
        "        //int index = ((image_idx * w * h) + (row_o * w + col_o));\n",
        "        // out[((image_idx * w * h) + (row_o * w + col_o))] = (sum);\n",
        "        out[((image_idx * w * h) + (row_o * w + col_o))] = (unsigned char) max(0, min(255, (unsigned char) (sum)));\n",
        "    }\n",
        "}\n",
        "}\n",
        "\n",
        "// std::vector<std::string> listFiles(const std::string &folderPath) {\n",
        "//   std::vector<std::string> files;\n",
        "\n",
        "//       WIN32_FIND_DATA findFileData;\n",
        "//       HANDLE hFind = FindFirstFile((folderPath + \"\\\\*\").c_str(), &findFileData);\n",
        "//       if (hFind == INVALID_HANDLE_VALUE) {\n",
        "//           std::cerr << \"Error opening directory! Error code: \" << GetLastError() << std::endl;\n",
        "//           return files;\n",
        "//       }\n",
        "\n",
        "//       do {\n",
        "//           // Exclude directories \".\" and \"..\"\n",
        "//           if (strcmp(findFileData.cFileName, \".\") != 0 && strcmp(findFileData.cFileName, \"..\") != 0) {\n",
        "//               // Add file name to vector\n",
        "//               files.push_back(findFileData.cFileName);\n",
        "//           }\n",
        "//       } while (FindNextFile(hFind, &findFileData) != 0);\n",
        "\n",
        "//       DWORD dwError = GetLastError();\n",
        "//       if (dwError != ERROR_NO_MORE_FILES) {\n",
        "//           std::cerr << \"Error reading directory! Error code: \" << dwError << std::endl;\n",
        "//       }\n",
        "\n",
        "//       FindClose(hFind);\n",
        "\n",
        "//       return files;\n",
        "// }\n",
        "\n",
        "\n",
        "std::vector<std::string> listFiles(const std::string &folderPath) {\n",
        "    std::vector<std::string> files;\n",
        "\n",
        "    try {\n",
        "        for (const auto &entry : std::filesystem::directory_iterator(folderPath)) {\n",
        "            if (!entry.is_directory()) {\n",
        "                files.push_back(entry.path().filename().string());\n",
        "            }\n",
        "        }\n",
        "    } catch (const std::filesystem::filesystem_error &e) {\n",
        "        std::cerr << \"Error reading directory: \" << e.what() << std::endl;\n",
        "    }\n",
        "\n",
        "    return files;\n",
        "}\n",
        "\n",
        "\n",
        "int main(int argc, char *argv[]) {\n",
        "    if (argc != 5) {\n",
        "        printf(\"Usage: %s input_folder_path output_folder_path batch_size mask.txt\\n\", argv[0]);\n",
        "        return 1;\n",
        "    }\n",
        "\n",
        "    FILE *mask_file = fopen(argv[4], \"r\");\n",
        "    if (!mask_file) {\n",
        "        printf(\"Error opening mask file!\\n\");\n",
        "        return 1;\n",
        "    }\n",
        "\n",
        "    int mask_dim;\n",
        "    fscanf(mask_file, \"%d\", &mask_dim);\n",
        "    float *host_mask = (float *)malloc(mask_dim * mask_dim * sizeof(float));\n",
        "\n",
        "    for (int i = 0; i < mask_dim; ++i) {\n",
        "        for (int j = 0; j < mask_dim; ++j) {\n",
        "            fscanf(mask_file, \"%f\", &host_mask[i * mask_dim + j]);\n",
        "        }\n",
        "    }\n",
        "    fclose(mask_file);\n",
        "\n",
        "\n",
        "    printf(\"Reading image...\\n\");\n",
        "\n",
        "    std::vector<std::string> files = listFiles(argv[1]);\n",
        "    int batch_size = atoi(argv[3]);\n",
        "    int width, height, comp;\n",
        "    unsigned char *d_in, *d_out;\n",
        "\n",
        "\n",
        "    std::vector<unsigned char> imageData;\n",
        "    int totalSize = 0;\n",
        "    // int padded_width, padded_height;\n",
        "    for (int b = 0; b < batch_size; ++b) {\n",
        "        char input_image_path[100];\n",
        "        sprintf(input_image_path, \"%s/%s\", argv[1], files[b].c_str());\n",
        "        // int width1, height1, comp1;\n",
        "        unsigned char *data = stbi_load(input_image_path, &width, &height, &comp, 0);\n",
        "        int size = width * height * comp;\n",
        "        totalSize += size;\n",
        "        // print width, height, comp\n",
        "        std::cout << \"width = \" << width << \", height = \" << height << \", comp = \" << comp << std::endl;\n",
        "        imageData.insert(imageData.end(), data, data + size);\n",
        "        stbi_image_free(data);\n",
        "    }\n",
        "\n",
        "    cudaMalloc(&d_in, batch_size * width * height * comp);\n",
        "    cudaMalloc(&d_out, batch_size * width * height);\n",
        "    // print the vector size\n",
        "    std::cout << \"Size of the vector: \" << imageData.size() << std::endl;\n",
        "\n",
        "    // Copy the concatenated image data to the GPU\n",
        "    cudaMemcpy(d_in, imageData.data(), totalSize * sizeof(unsigned char), cudaMemcpyHostToDevice);\n",
        "\n",
        "        // convolution_3D_input_kernelw<<<dim3((width + 16 - 1) / 16, (height + 16 - 1) / 16, batch_size), dim3(16, 16)>>>(d_in, d_out, width, height, comp, batch_size);\n",
        "        // int BLOCK_WIDTH = O_TILE_WIDTH + mask_dim - 1;\n",
        "        int output_tile_dim = BLOCK_WIDTH - mask_dim - 1;\n",
        "        dim3 dimBlock(BLOCK_WIDTH, BLOCK_WIDTH);\n",
        "        dim3 dimGrid((width - 1)/output_tile_dim +1, (height - 1)/output_tile_dim +1, batch_size);\n",
        "\n",
        "      float *d_mask;\n",
        "      cudaMalloc(&d_mask, mask_dim * mask_dim * sizeof(float));\n",
        "      cudaMemcpy(d_mask, host_mask, mask_dim * mask_dim * sizeof(float), cudaMemcpyHostToDevice);\n",
        "\n",
        "    //\n",
        "        int shared_mem_size = 3 * (BLOCK_WIDTH) * (BLOCK_WIDTH) * sizeof(unsigned char) + mask_dim * mask_dim * sizeof(float);\n",
        "        // convolution_3D_input_kernelw<<<dimGrid, dimBlock>>>(d_in, d_out, width, height, comp, batch_size);\n",
        "        convolution_3D_input_kernelwds<<<dimGrid, dimBlock,shared_mem_size>>>(d_in, d_out, width, height, comp, batch_size,mask_dim,d_mask,output_tile_dim);\n",
        "\n",
        "\n",
        "        unsigned char *out = (unsigned char *)malloc(batch_size * width * height);\n",
        "        cudaMemcpy(out, d_out, batch_size * width * height, cudaMemcpyDeviceToHost);\n",
        "\n",
        "        for (int b = 0; b < batch_size; ++b) {\n",
        "            char output_image_path[100];\n",
        "            sprintf(output_image_path, \"%s/image_%d.jpg\", argv[2], b);\n",
        "            stbi_write_jpg(output_image_path, width, height, 1, out + b * (width * height), 100);\n",
        "        }\n",
        "\n",
        "        free(out);\n",
        "        cudaFree(d_in);\n",
        "        cudaFree(d_out);\n",
        "\n",
        "        return 0;\n",
        "}\n",
        "\n",
        "\n",
        "\n"
      ]
    },
    {
      "cell_type": "code",
      "execution_count": 16,
      "metadata": {
        "id": "kRheeJOX5h5-"
      },
      "outputs": [],
      "source": [
        "!nvcc ./k2.cu -o k2.out"
      ]
    },
    {
      "cell_type": "code",
      "execution_count": 17,
      "metadata": {
        "colab": {
          "base_uri": "https://localhost:8080/"
        },
        "id": "dTboJKFx5rwE",
        "outputId": "c72e5aae-30ed-4d10-a628-4ad197383e30"
      },
      "outputs": [
        {
          "name": "stdout",
          "output_type": "stream",
          "text": [
            "/bin/bash: line 1: ./a.out: No such file or directory\n"
          ]
        }
      ],
      "source": [
        " !./a.out img out 3  mask.txt"
      ]
    },
    {
      "cell_type": "markdown",
      "metadata": {
        "id": "pNBm1s1FNXfj"
      },
      "source": []
    },
    {
      "cell_type": "code",
      "execution_count": null,
      "metadata": {
        "id": "iahIjJLhTV1E"
      },
      "outputs": [],
      "source": []
    },
    {
      "cell_type": "code",
      "execution_count": null,
      "metadata": {
        "colab": {
          "base_uri": "https://localhost:8080/"
        },
        "id": "KIT6dIIj5tZN",
        "outputId": "2388d40c-0281-44f2-d0d2-2e2b78e16ca1"
      },
      "outputs": [
        {
          "name": "stdout",
          "output_type": "stream",
          "text": [
            "Reading image...\n",
            "width = 1980, height = 1289, comp = 3\n",
            "width = 1980, height = 1289, comp = 3\n",
            "width = 1980, height = 1289, comp = 3\n",
            "==33647== NVPROF is profiling process 33647, command: ./k2.out img out 3 mask.txt\n",
            "Size of the vector: 22969980\n",
            "==33647== Profiling application: ./k2.out img out 3 mask.txt\n",
            "==33647== Profiling result:\n",
            "            Type  Time(%)      Time     Calls       Avg       Min       Max  Name\n",
            " GPU activities:   45.05%  5.1758ms         1  5.1758ms  5.1758ms  5.1758ms  [CUDA memcpy DtoH]\n",
            "                   42.87%  4.9256ms         2  2.4628ms  1.1520us  4.9245ms  [CUDA memcpy HtoD]\n",
            "                   12.09%  1.3887ms         1  1.3887ms  1.3887ms  1.3887ms  convolution_3D_out_kernelwdsf2(unsigned char*, unsigned char*, int, int, int, int, int, float*)\n",
            "      API calls:   93.32%  201.07ms         3  67.023ms  101.75us  200.84ms  cudaMalloc\n",
            "                    5.91%  12.729ms         3  4.2429ms  14.022us  7.5855ms  cudaMemcpy\n",
            "                    0.57%  1.2179ms         2  608.95us  259.32us  958.58us  cudaFree\n",
            "                    0.12%  255.69us         1  255.69us  255.69us  255.69us  cudaLaunchKernel\n",
            "                    0.08%  165.57us       114  1.4520us     144ns  56.982us  cuDeviceGetAttribute\n",
            "                    0.01%  16.840us         1  16.840us  16.840us  16.840us  cuDeviceGetName\n",
            "                    0.00%  5.7180us         1  5.7180us  5.7180us  5.7180us  cuDeviceGetPCIBusId\n",
            "                    0.00%  5.1820us         1  5.1820us  5.1820us  5.1820us  cuDeviceTotalMem\n",
            "                    0.00%  2.1240us         3     708ns     249ns  1.4450us  cuDeviceGetCount\n",
            "                    0.00%  1.2840us         2     642ns     368ns     916ns  cuDeviceGet\n",
            "                    0.00%     654ns         1     654ns     654ns     654ns  cuModuleGetLoadingMode\n",
            "                    0.00%     318ns         1     318ns     318ns     318ns  cuDeviceGetUuid\n"
          ]
        }
      ],
      "source": [
        "!nvprof ./k2.out img out 3 mask.txt"
      ]
    },
    {
      "cell_type": "code",
      "execution_count": 18,
      "metadata": {
        "colab": {
          "base_uri": "https://localhost:8080/"
        },
        "id": "a7V0eKsJ5unZ",
        "outputId": "9dc722f7-c951-4250-8936-8d2cb3963fed"
      },
      "outputs": [
        {
          "name": "stdout",
          "output_type": "stream",
          "text": [
            "Writing k3.cu\n"
          ]
        }
      ],
      "source": [
        "%%writefile k3.cu\n",
        "// %%writefile k2.cu\n",
        "\n",
        "#define STB_IMAGE_IMPLEMENTATION\n",
        "#define K 3\n",
        "#include <stdio.h>\n",
        "\n",
        "#include \"stb/stb_image.h\"\n",
        "#define STB_IMAGE_WRITE_IMPLEMENTATION\n",
        "#include \"stb/stb_image_write.h\"\n",
        "// #include <windows.h>\n",
        "#include <filesystem>\n",
        "#include <string>\n",
        "#include <vector>\n",
        "#include <iostream>\n",
        "\n",
        "\n",
        "#define STB_IMAGE_IMPLEMENTATION\n",
        "#define STB_IMAGE_WRITE_IMPLEMENTATION\n",
        "#define MASK_DIM 3\n",
        "#define THREADS_PER_BLOCK_X 16\n",
        "#define THREADS_PER_BLOCK_Y 16\n",
        "#define MASK_WIDTH 3\n",
        "#define MASK_RADIUS 1\n",
        "\n",
        "__global__\n",
        "void convolution_3D_out_kernelwdsf2(unsigned char * in, unsigned char * out, int w, int h,int maskWidth, int comp, int batch_size, float *mask2) {\n",
        "    int Col = blockIdx.x * blockDim.x + threadIdx.x;\n",
        "    int Row = blockIdx.y * blockDim.y + threadIdx.y;\n",
        "    int image_idx = blockIdx.z;\n",
        "    int threads_per_block_x = blockDim.x;\n",
        "    int threads_per_block_y = blockDim.y;\n",
        "    // Calculate the size of shared memory needed for tiles\n",
        "    //int shared_mem_size = (threads_per_block_y + maskWidth - 1) * (threads_per_block_x + maskWidth - 1) * 3 * sizeof(unsigned char);\n",
        "\n",
        "    // Dynamically allocate shared memory for tiles\n",
        "    extern __shared__ unsigned char shared_mem[];\n",
        "\n",
        "    // Linearize the shared memory for each color channel\n",
        "    unsigned char* tile_R = shared_mem;\n",
        "    unsigned char* tile_G = tile_R + (threads_per_block_y + maskWidth - 1) * (threads_per_block_x + maskWidth - 1);\n",
        "    unsigned char* tile_B = tile_G + (threads_per_block_y + maskWidth - 1) * (threads_per_block_x + maskWidth - 1);\n",
        "    float *mask3 = (float*)(tile_B + (threads_per_block_y + maskWidth - 1) * (threads_per_block_x + maskWidth - 1));\n",
        "    int tx = threadIdx.x;\n",
        "    int ty = threadIdx.y;\n",
        "    int row_start = blockIdx.y *threads_per_block_y;\n",
        "    int col_start =  blockIdx.x *threads_per_block_y;\n",
        "    int index_base = image_idx * (w * h * comp);\n",
        "\n",
        "if (Col < w && Row < h && image_idx < batch_size) {\n",
        "\n",
        "//    if (threadIdx.x < maskWidth && threadIdx.y < maskWidth) {\n",
        "//         mask3[threadIdx.y * maskWidth + threadIdx.x] = mask2[threadIdx.y * maskWidth + threadIdx.x];\n",
        "//     }\n",
        "    for (int i = threadIdx.y; i < maskWidth; i += blockDim.y) {\n",
        "        for (int j = threadIdx.x; j < maskWidth; j += blockDim.x) {\n",
        "            if ( i < maskWidth && j < maskWidth) {\n",
        "                mask3[i * maskWidth + j] = mask2[i * maskWidth + j];\n",
        "            }\n",
        "        }\n",
        "    }\n",
        "    __syncthreads();\n",
        "\n",
        "    for (int i = ty; i < threads_per_block_x + maskWidth - 1; i += blockDim.y) {\n",
        "        for (int j = tx; j < threads_per_block_y + maskWidth - 1; j += blockDim.x) {\n",
        "            int x_index = col_start - (maskWidth / 2) + j;\n",
        "            int y_index = row_start - (maskWidth / 2) + i;\n",
        "\n",
        "            // Calculate the linear index for accessing shared memory\n",
        "            int tile_idx = ( i) * (threads_per_block_x + maskWidth - 1) + ( j);\n",
        "\n",
        "            // Check bounds and load data into tiles\n",
        "            if (x_index >= 0 && x_index < w && y_index >= 0 && y_index < h) {\n",
        "                tile_R[tile_idx] = in[(y_index * w + x_index) * 3 + index_base];\n",
        "                tile_G[tile_idx] = in[(y_index * w + x_index) * 3 + 1 + index_base];\n",
        "                tile_B[tile_idx] = in[(y_index * w + x_index) * 3 + 2 + index_base];\n",
        "            } else {\n",
        "                tile_R[tile_idx] = 0;\n",
        "                tile_G[tile_idx] = 0;\n",
        "                tile_B[tile_idx] = 0;\n",
        "            }\n",
        "        }\n",
        "    }\n",
        "\n",
        "    __syncthreads();\n",
        "        float sum = 0;\n",
        "        float mask_val ;\n",
        "        int tile_idx;\n",
        "        for(int j = 0; j < maskWidth; ++j) {\n",
        "            for(int k = 0; k < maskWidth; ++k) {\n",
        "                // int curRow = Row - (maskWidth / 2) + j;\n",
        "                // int curCol = Col - (maskWidth / 2) + k;\n",
        "                // if(curRow > -1 && curRow < h && curCol > -1 && curCol < w) {\n",
        "                    // Linearize the indexing for accessing tile elements\n",
        "                    tile_idx = (ty + j) * (threads_per_block_x + maskWidth - 1) + (tx + k);\n",
        "                    mask_val = mask3[j * maskWidth + k];\n",
        "                    sum += tile_R[tile_idx] * mask_val+ tile_G[tile_idx] * mask_val+ tile_B[tile_idx] * mask_val;\n",
        "                    // pixVal_G += tile_G[tile_idx] * mask3[j * maskWidth + k];\n",
        "                    // pixVal_B += tile_B[tile_idx] * mask3[j * maskWidth + k];\n",
        "                // }\n",
        "            }\n",
        "        }\n",
        "        __syncthreads();\n",
        "        int index = (Row * w + Col) + image_idx*w*h;\n",
        "        // out[index] = ((unsigned char)(sum));\n",
        "        out[index] = (unsigned char) max(0, min(255, (unsigned char) (sum)));\n",
        "    }\n",
        "}\n",
        "\n",
        "\n",
        "\n",
        "std::vector<std::string> listFiles(const std::string &folderPath) {\n",
        "    std::vector<std::string> files;\n",
        "\n",
        "    try {\n",
        "        for (const auto &entry : std::filesystem::directory_iterator(folderPath)) {\n",
        "            if (!entry.is_directory()) {\n",
        "                files.push_back(entry.path().filename().string());\n",
        "            }\n",
        "        }\n",
        "    } catch (const std::filesystem::filesystem_error &e) {\n",
        "        std::cerr << \"Error reading directory: \" << e.what() << std::endl;\n",
        "    }\n",
        "\n",
        "    return files;\n",
        "}\n",
        "// std::vector<std::string> listFiles(const std::string &folderPath) {\n",
        "//   std::vector<std::string> files;\n",
        "\n",
        "//       WIN32_FIND_DATA findFileData;\n",
        "//       HANDLE hFind = FindFirstFile((folderPath + \"\\\\*\").c_str(), &findFileData);\n",
        "//       if (hFind == INVALID_HANDLE_VALUE) {\n",
        "//           std::cerr << \"Error opening directory! Error code: \" << GetLastError() << std::endl;\n",
        "//           return files;\n",
        "//       }\n",
        "\n",
        "//       do {\n",
        "//           // Exclude directories \".\" and \"..\"\n",
        "//           if (strcmp(findFileData.cFileName, \".\") != 0 && strcmp(findFileData.cFileName, \"..\") != 0) {\n",
        "//               // Add file name to vector\n",
        "//               files.push_back(findFileData.cFileName);\n",
        "//           }\n",
        "//       } while (FindNextFile(hFind, &findFileData) != 0);\n",
        "\n",
        "//       DWORD dwError = GetLastError();\n",
        "//       if (dwError != ERROR_NO_MORE_FILES) {\n",
        "//           std::cerr << \"Error reading directory! Error code: \" << dwError << std::endl;\n",
        "//       }\n",
        "\n",
        "//       FindClose(hFind);\n",
        "\n",
        "//       return files;\n",
        "// }\n",
        "\n",
        "int main(int argc, char *argv[]) {\n",
        "    if (argc != 5) {\n",
        "        printf(\"Usage: %s input_folder_path output_folder_path batch_size mask.txt\\n\", argv[0]);\n",
        "        return 1;\n",
        "    }\n",
        "\n",
        "    FILE *mask_file = fopen(argv[4], \"r\");\n",
        "    if (!mask_file) {\n",
        "        printf(\"Error opening mask file!\\n\");\n",
        "        return 1;\n",
        "    }\n",
        "\n",
        "    int mask_dim;\n",
        "    fscanf(mask_file, \"%d\", &mask_dim);\n",
        "   float *host_mask = (float *)malloc(mask_dim * mask_dim * sizeof(float));\n",
        "    for (int i = 0; i < mask_dim; ++i) {\n",
        "        for (int j = 0; j < mask_dim; ++j) {\n",
        "            fscanf(mask_file, \"%f\", &host_mask[i * mask_dim + j]);\n",
        "        }\n",
        "    }\n",
        "    fclose(mask_file);\n",
        "\n",
        "    // cudaMemcpyToSymbol(mask, host_mask, mask_dim * mask_dim * sizeof(float));\n",
        "\n",
        "    printf(\"Reading image...\\n\");\n",
        "\n",
        "    std::vector<std::string> files = listFiles(argv[1]);\n",
        "    int batch_size = atoi(argv[3]);\n",
        "    int width, height, comp;\n",
        "    unsigned char *d_in, *d_out;\n",
        "\n",
        "std::vector<unsigned char> imageData;\n",
        "int totalSize = 0;\n",
        "for (int b = 0; b < batch_size; ++b) {\n",
        "    char input_image_path[100];\n",
        "    sprintf(input_image_path, \"%s/%s\", argv[1], files[b].c_str());\n",
        "    // int width1, height1, comp1;\n",
        "    unsigned char *data = stbi_load(input_image_path, &width, &height, &comp, 0);\n",
        "    int size = width * height * comp;\n",
        "    totalSize += size;\n",
        "    // print width, height, comp\n",
        "    std::cout << \"width = \" << width << \", height = \" << height << \", comp = \" << comp << std::endl;\n",
        "    imageData.insert(imageData.end(), data, data + size);\n",
        "    stbi_image_free(data);\n",
        "}\n",
        "\n",
        "cudaMalloc(&d_in, batch_size * width * height * comp);\n",
        "cudaMalloc(&d_out, batch_size * width * height);\n",
        "// print the vector size\n",
        "std::cout << \"Size of the vector: \" << imageData.size() << std::endl;\n",
        "\n",
        "// Copy the concatenated image data to the GPU\n",
        "cudaMemcpy(d_in, imageData.data(), totalSize * sizeof(unsigned char), cudaMemcpyHostToDevice);\n",
        "\n",
        "    ///\n",
        "    float *d_mask;\n",
        "    cudaMalloc(&d_mask, mask_dim * mask_dim * sizeof(float));\n",
        "    cudaMemcpy(d_mask, host_mask, mask_dim * mask_dim * sizeof(float), cudaMemcpyHostToDevice);\n",
        "\n",
        "    //\n",
        "    // convolution_3D_out_kernelw<<<dim3((width + THREADS_PER_BLOCK_X - 1) / THREADS_PER_BLOCK_X, (height + THREADS_PER_BLOCK_X - 1) / THREADS_PER_BLOCK_X, batch_size), dim3(THREADS_PER_BLOCK_X, THREADS_PER_BLOCK_X)>>>(d_in, d_out, width, height, comp, batch_size);\n",
        "    int shared_mem_size =  3 * (THREADS_PER_BLOCK_X + mask_dim -1) * (THREADS_PER_BLOCK_X + mask_dim -1) * sizeof(unsigned char) +  mask_dim * mask_dim * sizeof(float);\n",
        "    convolution_3D_out_kernelwdsf2<<<dim3((width + THREADS_PER_BLOCK_X - 1) / THREADS_PER_BLOCK_X, (height + THREADS_PER_BLOCK_X - 1) / THREADS_PER_BLOCK_X, batch_size), dim3(THREADS_PER_BLOCK_X, THREADS_PER_BLOCK_X),shared_mem_size>>>(d_in, d_out, width, height,mask_dim, comp, batch_size,d_mask);\n",
        "    unsigned char *out = (unsigned char *)malloc(batch_size * width * height);\n",
        "    cudaMemcpy(out, d_out, batch_size * width * height, cudaMemcpyDeviceToHost);\n",
        "\n",
        "    for (int b = 0; b < batch_size; ++b) {\n",
        "        char output_image_path[100];\n",
        "        sprintf(output_image_path, \"%s/image_%d.jpg\", argv[2], b);\n",
        "        stbi_write_jpg(output_image_path, width, height, 1, out + b * (width * height), 100);\n",
        "    }\n",
        "\n",
        "    free(out);\n",
        "    cudaFree(d_in);\n",
        "    cudaFree(d_out);\n",
        "\n",
        "    return 0;\n",
        "}\n",
        "\n"
      ]
    },
    {
      "cell_type": "code",
      "execution_count": 19,
      "metadata": {
        "colab": {
          "base_uri": "https://localhost:8080/"
        },
        "id": "vG-Frfjk5-ln",
        "outputId": "31dc43cd-349d-44ab-9eb7-be486e147ba1"
      },
      "outputs": [
        {
          "name": "stdout",
          "output_type": "stream",
          "text": [
            "\u001b[01m\u001b[0m\u001b[01m./stb/stb_image.h(4275)\u001b[0m: \u001b[01;35mwarning\u001b[0m #550-D: variable \u001b[01m\"old_limit\"\u001b[0m was set but never used\n",
            "     unsigned int cur, limit, old_limit;\n",
            "                              ^\n",
            "\n",
            "\u001b[01;36m\u001b[0m\u001b[01;36mRemark\u001b[0m: The warnings can be suppressed with \"-diag-suppress <warning-number>\"\n",
            "\n",
            "\u001b[01m\u001b[0m\u001b[01m./stb/stb_image.h(5182)\u001b[0m: \u001b[01;35mwarning\u001b[0m #550-D: variable \u001b[01m\"idata_limit_old\"\u001b[0m was set but never used\n",
            "                 stbi__uint32 idata_limit_old = idata_limit;\n",
            "                              ^\n",
            "\n",
            "\u001b[01m\u001b[0m\u001b[01m./stb/stb_image.h(6969)\u001b[0m: \u001b[01;35mwarning\u001b[0m #550-D: variable \u001b[01m\"out_size\"\u001b[0m was set but never used\n",
            "        int out_size = 0;\n",
            "            ^\n",
            "\n",
            "\u001b[01m\u001b[0m\u001b[01m./stb/stb_image.h(6970)\u001b[0m: \u001b[01;35mwarning\u001b[0m #550-D: variable \u001b[01m\"delays_size\"\u001b[0m was set but never used\n",
            "        int delays_size = 0;\n",
            "            ^\n",
            "\n"
          ]
        }
      ],
      "source": [
        "!nvcc ./k3.cu -o k3.out"
      ]
    },
    {
      "cell_type": "code",
      "execution_count": null,
      "metadata": {
        "colab": {
          "base_uri": "https://localhost:8080/"
        },
        "id": "KZeSM-PN6EgI",
        "outputId": "04503207-e399-4e5b-e0b5-efbc3e2d9e81"
      },
      "outputs": [
        {
          "name": "stdout",
          "output_type": "stream",
          "text": [
            "Reading image...\n",
            "width = 1980, height = 1289, comp = 3\n",
            "width = 1980, height = 1289, comp = 3\n",
            "width = 1980, height = 1289, comp = 3\n",
            "==33403== NVPROF is profiling process 33403, command: ./k3.out img out 3 mask.txt\n",
            "Size of the vector: 22969980\n",
            "==33403== Profiling application: ./k3.out img out 3 mask.txt\n",
            "==33403== Profiling result:\n",
            "            Type  Time(%)      Time     Calls       Avg       Min       Max  Name\n",
            " GPU activities:   50.07%  6.3853ms         2  3.1927ms  1.1520us  6.3842ms  [CUDA memcpy HtoD]\n",
            "                   37.92%  4.8361ms         1  4.8361ms  4.8361ms  4.8361ms  [CUDA memcpy DtoH]\n",
            "                   12.00%  1.5304ms         1  1.5304ms  1.5304ms  1.5304ms  convolution_3D_input_kernelwds(unsigned char*, unsigned char*, int, int, int, int, int, float*)\n",
            "      API calls:   92.59%  197.58ms         3  65.860ms  96.550us  197.29ms  cudaMalloc\n",
            "                    6.54%  13.945ms         3  4.6484ms  30.238us  7.3465ms  cudaMemcpy\n",
            "                    0.60%  1.2811ms         2  640.54us  315.15us  965.93us  cudaFree\n",
            "                    0.15%  330.61us         1  330.61us  330.61us  330.61us  cudaLaunchKernel\n",
            "                    0.10%  216.25us       114  1.8960us     178ns  77.612us  cuDeviceGetAttribute\n",
            "                    0.01%  15.311us         1  15.311us  15.311us  15.311us  cuDeviceGetName\n",
            "                    0.00%  7.5600us         1  7.5600us  7.5600us  7.5600us  cuDeviceGetPCIBusId\n",
            "                    0.00%  5.8330us         1  5.8330us  5.8330us  5.8330us  cuDeviceTotalMem\n",
            "                    0.00%  2.2990us         3     766ns     364ns  1.5200us  cuDeviceGetCount\n",
            "                    0.00%  1.5600us         2     780ns     295ns  1.2650us  cuDeviceGet\n",
            "                    0.00%     650ns         1     650ns     650ns     650ns  cuModuleGetLoadingMode\n",
            "                    0.00%     465ns         1     465ns     465ns     465ns  cuDeviceGetUuid\n"
          ]
        }
      ],
      "source": [
        "!nvprof ./k3.out img out 3 mask.txt"
      ]
    },
    {
      "cell_type": "code",
      "execution_count": null,
      "metadata": {
        "id": "DZYRIqzr6GXD"
      },
      "outputs": [],
      "source": []
    },
    {
      "cell_type": "code",
      "execution_count": null,
      "metadata": {
        "id": "EwI4lILy7jKA"
      },
      "outputs": [],
      "source": []
    },
    {
      "cell_type": "code",
      "execution_count": null,
      "metadata": {
        "colab": {
          "base_uri": "https://localhost:8080/"
        },
        "id": "xHIlBc0-7o3Y",
        "outputId": "352b57ed-afc8-4e9e-cf89-f85d1c7e1d97"
      },
      "outputs": [
        {
          "name": "stdout",
          "output_type": "stream",
          "text": [
            "Writing k3c.cu\n"
          ]
        }
      ],
      "source": [
        "%%writefile k3c.cu\n",
        "//K3 constant input\n",
        "// %%writefile k3.cu\n",
        "//input tile\n",
        "#define STB_IMAGE_IMPLEMENTATION\n",
        "#define K 3\n",
        "#include <stdio.h>\n",
        "\n",
        "#include \"stb/stb_image.h\"\n",
        "#define STB_IMAGE_WRITE_IMPLEMENTATION\n",
        "#include \"stb/stb_image_write.h\"\n",
        "// #include <windows.h>\n",
        "#include <filesystem>\n",
        "#include <string>\n",
        "#include <vector>\n",
        "#include <iostream>\n",
        "\n",
        "\n",
        "#define STB_IMAGE_IMPLEMENTATION\n",
        "#define STB_IMAGE_WRITE_IMPLEMENTATION\n",
        "#define MASK_DIM 9\n",
        "// #define MASK_DIM 3\n",
        "#define THREADS_PER_BLOCK_X 18\n",
        "#define THREADS_PER_BLOCK_Y 18\n",
        "#define MASK_WIDTH 9\n",
        "#define MASK_RADIUS 1\n",
        "\n",
        "#define  O_TILE_WIDTH 16\n",
        "\n",
        "\n",
        "\n",
        "__constant__ float mask[MASK_DIM *MASK_DIM];\n",
        "\n",
        "__global__\n",
        "void convolution_3D_input_kernelwds(unsigned char * in, unsigned char * out, int w, int h, int comp, int batch_size,int maskWidth, float * mask2) {\n",
        "    // int Col = blockIdx.x * blockDim.x + threadIdx.x;\n",
        "    // int Row = blockIdx.y * blockDim.y + threadIdx.y;\n",
        "    int image_idx = blockIdx.z;\n",
        "    int threads_per_block_x = blockDim.x;\n",
        "    int threads_per_block_y = blockDim.y;\n",
        "    /////////////////\n",
        "    // int shared_mem_size = (threads_per_block_y ) * (threads_per_block_x) * 3 * sizeof(unsigned char);\n",
        "\n",
        "    // Dynamically allocate shared memory for tiles\n",
        "    extern __shared__ unsigned char shared_mem[];\n",
        "    // each thread loads one element from the input list into the shared memory\n",
        "    unsigned char* tile_R = shared_mem;\n",
        "    unsigned char* tile_G = tile_R + (threads_per_block_y ) * (threads_per_block_x );\n",
        "    unsigned char* tile_B = tile_G + (threads_per_block_y ) * (threads_per_block_x );\n",
        "\n",
        "    // float *mask3 = (float*)(tile_B + (threads_per_block_y ) * (threads_per_block_x ));\n",
        "    // if (threadIdx.x < maskWidth && threadIdx.y < maskWidth) {\n",
        "    //     mask3[threadIdx.y * maskWidth + threadIdx.x] = mask2[threadIdx.y * maskWidth + threadIdx.x];\n",
        "    // }\n",
        "\n",
        "    int tx = threadIdx.x;\n",
        "    int ty = threadIdx.y;\n",
        "    int row_o = blockIdx.y * O_TILE_WIDTH + ty;\n",
        "    int col_o = blockIdx.x * O_TILE_WIDTH + tx;\n",
        "    int row_i = row_o - maskWidth/2;\n",
        "    int col_i = col_o - maskWidth/2;\n",
        "    int tile_idx = (ty) * (threads_per_block_x) + (tx);\n",
        "    if (image_idx < batch_size){\n",
        "    if (row_i >= 0 && row_i < h && col_i >= 0 && col_i < w) {\n",
        "        tile_R[tile_idx] = in[(image_idx * w * h * comp) + (row_i * w + col_i) * comp];\n",
        "        tile_G[tile_idx] = in[(image_idx * w * h * comp) + (row_i * w + col_i) * comp + 1];\n",
        "        tile_B[tile_idx] = in[(image_idx * w * h * comp) + (row_i * w + col_i) * comp + 2];\n",
        "    } else {\n",
        "        tile_R[tile_idx] = 0;\n",
        "        tile_G[tile_idx] = 0;\n",
        "        tile_B[tile_idx] = 0;\n",
        "    }\n",
        "    __syncthreads();\n",
        "    if (row_o < h && col_o < w && ty <  O_TILE_WIDTH && tx < O_TILE_WIDTH){\n",
        "        int sum = 0;\n",
        "        for (int i = 0; i < maskWidth; i++)\n",
        "        {\n",
        "            for (int j = 0; j < maskWidth; j++)\n",
        "            {\n",
        "               // int tile_idx = (ty + i) * (threads_per_block_x) + (tx + j);\n",
        "                float maskValue= mask[i * maskWidth + j];\n",
        "                sum += tile_R[(ty + i) * (threads_per_block_x) + (tx + j)] * maskValue + tile_G[tile_idx] *maskValue + tile_B[tile_idx] * maskValue;\n",
        "            }\n",
        "        }\n",
        "\n",
        "        //int index = ((image_idx * w * h) + (row_o * w + col_o));\n",
        "        out[((image_idx * w * h) + (row_o * w + col_o))] = (sum);\n",
        "    }\n",
        "}\n",
        "}\n",
        "\n",
        "// std::vector<std::string> listFiles(const std::string &folderPath) {\n",
        "//   std::vector<std::string> files;\n",
        "\n",
        "//       WIN32_FIND_DATA findFileData;\n",
        "//       HANDLE hFind = FindFirstFile((folderPath + \"\\\\*\").c_str(), &findFileData);\n",
        "//       if (hFind == INVALID_HANDLE_VALUE) {\n",
        "//           std::cerr << \"Error opening directory! Error code: \" << GetLastError() << std::endl;\n",
        "//           return files;\n",
        "//       }\n",
        "\n",
        "//       do {\n",
        "//           // Exclude directories \".\" and \"..\"\n",
        "//           if (strcmp(findFileData.cFileName, \".\") != 0 && strcmp(findFileData.cFileName, \"..\") != 0) {\n",
        "//               // Add file name to vector\n",
        "//               files.push_back(findFileData.cFileName);\n",
        "//           }\n",
        "//       } while (FindNextFile(hFind, &findFileData) != 0);\n",
        "\n",
        "//       DWORD dwError = GetLastError();\n",
        "//       if (dwError != ERROR_NO_MORE_FILES) {\n",
        "//           std::cerr << \"Error reading directory! Error code: \" << dwError << std::endl;\n",
        "//       }\n",
        "\n",
        "//       FindClose(hFind);\n",
        "\n",
        "//       return files;\n",
        "// }\n",
        "\n",
        "\n",
        "std::vector<std::string> listFiles(const std::string &folderPath) {\n",
        "    std::vector<std::string> files;\n",
        "\n",
        "    try {\n",
        "        for (const auto &entry : std::filesystem::directory_iterator(folderPath)) {\n",
        "            if (!entry.is_directory()) {\n",
        "                files.push_back(entry.path().filename().string());\n",
        "            }\n",
        "        }\n",
        "    } catch (const std::filesystem::filesystem_error &e) {\n",
        "        std::cerr << \"Error reading directory: \" << e.what() << std::endl;\n",
        "    }\n",
        "\n",
        "    return files;\n",
        "}\n",
        "\n",
        "\n",
        "int main(int argc, char *argv[]) {\n",
        "    if (argc != 5) {\n",
        "        printf(\"Usage: %s input_folder_path output_folder_path batch_size mask.txt\\n\", argv[0]);\n",
        "        return 1;\n",
        "    }\n",
        "\n",
        "    FILE *mask_file = fopen(argv[4], \"r\");\n",
        "    if (!mask_file) {\n",
        "        printf(\"Error opening mask file!\\n\");\n",
        "        return 1;\n",
        "    }\n",
        "\n",
        "    int mask_dim;\n",
        "    fscanf(mask_file, \"%d\", &mask_dim);\n",
        "    float *host_mask = (float *)malloc(mask_dim * mask_dim * sizeof(float));\n",
        "\n",
        "    for (int i = 0; i < mask_dim; ++i) {\n",
        "        for (int j = 0; j < mask_dim; ++j) {\n",
        "            fscanf(mask_file, \"%f\", &host_mask[i * mask_dim + j]);\n",
        "        }\n",
        "    }\n",
        "    fclose(mask_file);\n",
        "\n",
        "    cudaMemcpyToSymbol(mask, host_mask, MASK_DIM * MASK_DIM * sizeof(float));\n",
        "\n",
        "    printf(\"Reading image...\\n\");\n",
        "\n",
        "    std::vector<std::string> files = listFiles(argv[1]);\n",
        "    int batch_size = atoi(argv[3]);\n",
        "    int width, height, comp;\n",
        "    unsigned char *d_in, *d_out;\n",
        "\n",
        "\n",
        "    std::vector<unsigned char> imageData;\n",
        "    int totalSize = 0;\n",
        "    // int padded_width, padded_height;\n",
        "    for (int b = 0; b < batch_size; ++b) {\n",
        "        char input_image_path[100];\n",
        "        sprintf(input_image_path, \"%s/%s\", argv[1], files[b].c_str());\n",
        "        // int width1, height1, comp1;\n",
        "        unsigned char *data = stbi_load(input_image_path, &width, &height, &comp, 0);\n",
        "        int size = width * height * comp;\n",
        "        totalSize += size;\n",
        "        // print width, height, comp\n",
        "        std::cout << \"width = \" << width << \", height = \" << height << \", comp = \" << comp << std::endl;\n",
        "        imageData.insert(imageData.end(), data, data + size);\n",
        "        stbi_image_free(data);\n",
        "    }\n",
        "\n",
        "    cudaMalloc(&d_in, batch_size * width * height * comp);\n",
        "    cudaMalloc(&d_out, batch_size * width * height);\n",
        "    // print the vector size\n",
        "    std::cout << \"Size of the vector: \" << imageData.size() << std::endl;\n",
        "\n",
        "    // Copy the concatenated image data to the GPU\n",
        "    cudaMemcpy(d_in, imageData.data(), totalSize * sizeof(unsigned char), cudaMemcpyHostToDevice);\n",
        "\n",
        "        // convolution_3D_input_kernelw<<<dim3((width + 16 - 1) / 16, (height + 16 - 1) / 16, batch_size), dim3(16, 16)>>>(d_in, d_out, width, height, comp, batch_size);\n",
        "        int block_width = O_TILE_WIDTH + mask_dim - 1;\n",
        "        dim3 dimBlock(block_width, block_width);\n",
        "        dim3 dimGrid((width - 1)/O_TILE_WIDTH +1, (height - 1)/O_TILE_WIDTH +1, batch_size);\n",
        "\n",
        "      float *d_mask;\n",
        "      cudaMalloc(&d_mask, mask_dim * mask_dim * sizeof(float));\n",
        "      cudaMemcpy(d_mask, host_mask, mask_dim * mask_dim * sizeof(float), cudaMemcpyHostToDevice);\n",
        "\n",
        "    //\n",
        "        int shared_mem_size = 3 * (block_width) * (block_width) * sizeof(unsigned char) + mask_dim * mask_dim * sizeof(float);\n",
        "        // convolution_3D_input_kernelw<<<dimGrid, dimBlock>>>(d_in, d_out, width, height, comp, batch_size);\n",
        "        convolution_3D_input_kernelwds<<<dimGrid, dimBlock,shared_mem_size>>>(d_in, d_out, width, height, comp, batch_size,mask_dim,d_mask);\n",
        "\n",
        "\n",
        "        unsigned char *out = (unsigned char *)malloc(batch_size * width * height);\n",
        "        cudaMemcpy(out, d_out, batch_size * width * height, cudaMemcpyDeviceToHost);\n",
        "\n",
        "        for (int b = 0; b < batch_size; ++b) {\n",
        "            char output_image_path[100];\n",
        "            sprintf(output_image_path, \"%s/image_%d.jpg\", argv[2], b);\n",
        "            stbi_write_jpg(output_image_path, width, height, 1, out + b * (width * height), 100);\n",
        "        }\n",
        "\n",
        "        free(out);\n",
        "        cudaFree(d_in);\n",
        "        cudaFree(d_out);\n",
        "\n",
        "        return 0;\n",
        "}\n",
        "\n",
        "\n"
      ]
    },
    {
      "cell_type": "code",
      "execution_count": null,
      "metadata": {
        "colab": {
          "base_uri": "https://localhost:8080/"
        },
        "id": "mxdT_01Tf_53",
        "outputId": "cce6d3ee-4e54-41fe-ecf2-a2ca82810890"
      },
      "outputs": [
        {
          "name": "stdout",
          "output_type": "stream",
          "text": [
            "\u001b[01m\u001b[0m\u001b[01mstb/stb_image.h(4275)\u001b[0m: \u001b[01;35mwarning\u001b[0m #550-D: variable \u001b[01m\"old_limit\"\u001b[0m was set but never used\n",
            "     unsigned int cur, limit, old_limit;\n",
            "                              ^\n",
            "\n",
            "\u001b[01;36m\u001b[0m\u001b[01;36mRemark\u001b[0m: The warnings can be suppressed with \"-diag-suppress <warning-number>\"\n",
            "\n",
            "\u001b[01m\u001b[0m\u001b[01mstb/stb_image.h(5182)\u001b[0m: \u001b[01;35mwarning\u001b[0m #550-D: variable \u001b[01m\"idata_limit_old\"\u001b[0m was set but never used\n",
            "                 stbi__uint32 idata_limit_old = idata_limit;\n",
            "                              ^\n",
            "\n",
            "\u001b[01m\u001b[0m\u001b[01mstb/stb_image.h(6969)\u001b[0m: \u001b[01;35mwarning\u001b[0m #550-D: variable \u001b[01m\"out_size\"\u001b[0m was set but never used\n",
            "        int out_size = 0;\n",
            "            ^\n",
            "\n",
            "\u001b[01m\u001b[0m\u001b[01mstb/stb_image.h(6970)\u001b[0m: \u001b[01;35mwarning\u001b[0m #550-D: variable \u001b[01m\"delays_size\"\u001b[0m was set but never used\n",
            "        int delays_size = 0;\n",
            "            ^\n",
            "\n"
          ]
        }
      ],
      "source": [
        "!nvcc k3c.cu -o k3c.out"
      ]
    },
    {
      "cell_type": "code",
      "execution_count": null,
      "metadata": {
        "colab": {
          "base_uri": "https://localhost:8080/"
        },
        "id": "8OvahM8KrOs1",
        "outputId": "417e9bb7-9937-4d82-e445-f5f8addab109"
      },
      "outputs": [
        {
          "name": "stdout",
          "output_type": "stream",
          "text": [
            "==20581== NVPROF is profiling process 20581, command: ./k3c.out img out 3 mask.txt\n",
            "Reading image...\n",
            "width = 1980, height = 1289, comp = 3\n",
            "width = 1980, height = 1289, comp = 3\n",
            "width = 1980, height = 1289, comp = 3\n",
            "Size of the vector: 22969980\n",
            "==20581== Profiling application: ./k3c.out img out 3 mask.txt\n",
            "==20581== Profiling result:\n",
            "            Type  Time(%)      Time     Calls       Avg       Min       Max  Name\n",
            " GPU activities:   56.28%  4.5401ms         2  2.2701ms     704ns  4.5394ms  [CUDA memcpy HtoD]\n",
            "                   26.45%  2.1341ms         1  2.1341ms  2.1341ms  2.1341ms  convolution_3D_input_kernelwds(unsigned char*, unsigned char*, int, int, int, int, int)\n",
            "                   17.27%  1.3933ms         1  1.3933ms  1.3933ms  1.3933ms  [CUDA memcpy DtoH]\n",
            "      API calls:   90.42%  102.24ms         1  102.24ms  102.24ms  102.24ms  cudaMemcpyToSymbol\n",
            "                    7.55%  8.5383ms         2  4.2691ms  3.7932ms  4.7451ms  cudaMemcpy\n",
            "                    1.19%  1.3457ms         2  672.87us  337.61us  1.0081ms  cudaFree\n",
            "                    0.44%  498.40us       114  4.3710us     178ns  351.71us  cuDeviceGetAttribute\n",
            "                    0.32%  364.71us         2  182.35us  84.544us  280.16us  cudaMalloc\n",
            "                    0.05%  54.167us         1  54.167us  54.167us  54.167us  cudaLaunchKernel\n",
            "                    0.01%  13.166us         1  13.166us  13.166us  13.166us  cuDeviceGetName\n",
            "                    0.01%  8.5120us         1  8.5120us  8.5120us  8.5120us  cuDeviceGetPCIBusId\n",
            "                    0.01%  6.2550us         1  6.2550us  6.2550us  6.2550us  cuDeviceTotalMem\n",
            "                    0.00%  2.6870us         3     895ns     336ns  1.8610us  cuDeviceGetCount\n",
            "                    0.00%  1.4760us         2     738ns     325ns  1.1510us  cuDeviceGet\n",
            "                    0.00%     826ns         1     826ns     826ns     826ns  cuDeviceGetUuid\n",
            "                    0.00%     615ns         1     615ns     615ns     615ns  cuModuleGetLoadingMode\n"
          ]
        }
      ],
      "source": [
        "!nvprof ./k3c.out img out 3 mask.txt"
      ]
    },
    {
      "cell_type": "code",
      "execution_count": 53,
      "metadata": {
        "colab": {
          "base_uri": "https://localhost:8080/"
        },
        "id": "J8OqiFJtrbm3",
        "outputId": "33eee4cc-8192-4184-a45a-8934f0f48fcc"
      },
      "outputs": [
        {
          "name": "stdout",
          "output_type": "stream",
          "text": [
            "Writing k2c.cu\n"
          ]
        }
      ],
      "source": [
        "%%writefile k2c.cu\n",
        "// %%writefile k3.cu\n",
        "//input tile\n",
        "#define STB_IMAGE_IMPLEMENTATION\n",
        "#define K 3\n",
        "#include <stdio.h>\n",
        "\n",
        "#include \"stb/stb_image.h\"\n",
        "#define STB_IMAGE_WRITE_IMPLEMENTATION\n",
        "#include \"stb/stb_image_write.h\"\n",
        "#include <windows.h>\n",
        "// #include <filesystem>\n",
        "#include <string>\n",
        "#include <vector>\n",
        "#include <iostream>\n",
        "\n",
        "\n",
        "#define STB_IMAGE_IMPLEMENTATION\n",
        "#define STB_IMAGE_WRITE_IMPLEMENTATION\n",
        "#define MASK_DIM 3\n",
        "// #define MASK_DIM 3\n",
        "#define THREADS_PER_BLOCK_X 18\n",
        "#define THREADS_PER_BLOCK_Y 18\n",
        "#define MASK_WIDTH 3\n",
        "#define MASK_RADIUS 1\n",
        "\n",
        "#define  O_TILE_WIDTH 16\n",
        "\n",
        "\n",
        "\n",
        "__constant__ float mask[MASK_DIM *MASK_DIM];\n",
        "\n",
        "__global__\n",
        "void convolution_3D_input_kernelwds(unsigned char * in, unsigned char * out, int w, int h, int comp, int batch_size,int maskWidth, float * mask2) {\n",
        "    // int Col = blockIdx.x * blockDim.x + threadIdx.x;\n",
        "    // int Row = blockIdx.y * blockDim.y + threadIdx.y;\n",
        "    int image_idx = blockIdx.z;\n",
        "    int threads_per_block_x = blockDim.x;\n",
        "    int threads_per_block_y = blockDim.y;\n",
        "    /////////////////\n",
        "    // int shared_mem_size = (threads_per_block_y ) * (threads_per_block_x) * 3 * sizeof(unsigned char);\n",
        "\n",
        "    // Dynamically allocate shared memory for tiles\n",
        "    extern __shared__ unsigned char shared_mem[];\n",
        "    // each thread loads one element from the input list into the shared memory\n",
        "    unsigned char* tile_R = shared_mem;\n",
        "    unsigned char* tile_G = tile_R + (threads_per_block_y ) * (threads_per_block_x );\n",
        "    unsigned char* tile_B = tile_G + (threads_per_block_y ) * (threads_per_block_x );\n",
        "\n",
        "    // float *mask3 = (float*)(tile_B + (threads_per_block_y ) * (threads_per_block_x ));\n",
        "    // if (threadIdx.x < maskWidth && threadIdx.y < maskWidth) {\n",
        "    //     mask3[threadIdx.y * maskWidth + threadIdx.x] = mask2[threadIdx.y * maskWidth + threadIdx.x];\n",
        "    // }\n",
        "\n",
        "    int tx = threadIdx.x;\n",
        "    int ty = threadIdx.y;\n",
        "    int row_o = blockIdx.y * O_TILE_WIDTH + ty;\n",
        "    int col_o = blockIdx.x * O_TILE_WIDTH + tx;\n",
        "    int row_i = row_o - maskWidth/2;\n",
        "    int col_i = col_o - maskWidth/2;\n",
        "    int tile_idx = (ty) * (threads_per_block_x) + (tx);\n",
        "    if (image_idx < batch_size){\n",
        "    if (row_i >= 0 && row_i < h && col_i >= 0 && col_i < w) {\n",
        "        tile_R[tile_idx] = in[(image_idx * w * h * comp) + (row_i * w + col_i) * comp];\n",
        "        tile_G[tile_idx] = in[(image_idx * w * h * comp) + (row_i * w + col_i) * comp + 1];\n",
        "        tile_B[tile_idx] = in[(image_idx * w * h * comp) + (row_i * w + col_i) * comp + 2];\n",
        "    } else {\n",
        "        tile_R[tile_idx] = 0;\n",
        "        tile_G[tile_idx] = 0;\n",
        "        tile_B[tile_idx] = 0;\n",
        "    }\n",
        "    __syncthreads();\n",
        "    if (row_o < h && col_o < w && ty <  O_TILE_WIDTH && tx < O_TILE_WIDTH){\n",
        "        int sum = 0;\n",
        "        for (int i = 0; i < maskWidth; i++)\n",
        "        {\n",
        "            for (int j = 0; j < maskWidth; j++)\n",
        "            {\n",
        "               // int tile_idx = (ty + i) * (threads_per_block_x) + (tx + j);\n",
        "                float maskValue= mask[i * maskWidth + j];\n",
        "                sum += tile_R[(ty + i) * (threads_per_block_x) + (tx + j)] * maskValue + tile_G[tile_idx] *maskValue + tile_B[tile_idx] * maskValue;\n",
        "            }\n",
        "        }\n",
        "\n",
        "        //int index = ((image_idx * w * h) + (row_o * w + col_o));\n",
        "        out[((image_idx * w * h) + (row_o * w + col_o))] = (sum);\n",
        "    }\n",
        "}\n",
        "}\n",
        "\n",
        "std::vector<std::string> listFiles(const std::string &folderPath) {\n",
        "  std::vector<std::string> files;\n",
        "\n",
        "      WIN32_FIND_DATA findFileData;\n",
        "      HANDLE hFind = FindFirstFile((folderPath + \"\\\\*\").c_str(), &findFileData);\n",
        "      if (hFind == INVALID_HANDLE_VALUE) {\n",
        "          std::cerr << \"Error opening directory! Error code: \" << GetLastError() << std::endl;\n",
        "          return files;\n",
        "      }\n",
        "\n",
        "      do {\n",
        "          // Exclude directories \".\" and \"..\"\n",
        "          if (strcmp(findFileData.cFileName, \".\") != 0 && strcmp(findFileData.cFileName, \"..\") != 0) {\n",
        "              // Add file name to vector\n",
        "              files.push_back(findFileData.cFileName);\n",
        "          }\n",
        "      } while (FindNextFile(hFind, &findFileData) != 0);\n",
        "\n",
        "      DWORD dwError = GetLastError();\n",
        "      if (dwError != ERROR_NO_MORE_FILES) {\n",
        "          std::cerr << \"Error reading directory! Error code: \" << dwError << std::endl;\n",
        "      }\n",
        "\n",
        "      FindClose(hFind);\n",
        "\n",
        "      return files;\n",
        "}\n",
        "\n",
        "\n",
        "// std::vector<std::string> listFiles(const std::string &folderPath) {\n",
        "//     std::vector<std::string> files;\n",
        "\n",
        "//     try {\n",
        "//         for (const auto &entry : std::filesystem::directory_iterator(folderPath)) {\n",
        "//             if (!entry.is_directory()) {\n",
        "//                 files.push_back(entry.path().filename().string());\n",
        "//             }\n",
        "//         }\n",
        "//     } catch (const std::filesystem::filesystem_error &e) {\n",
        "//         std::cerr << \"Error reading directory: \" << e.what() << std::endl;\n",
        "//     }\n",
        "\n",
        "//     return files;\n",
        "// }\n",
        "\n",
        "\n",
        "int main(int argc, char *argv[]) {\n",
        "    if (argc != 5) {\n",
        "        printf(\"Usage: %s input_folder_path output_folder_path batch_size mask.txt\\n\", argv[0]);\n",
        "        return 1;\n",
        "    }\n",
        "\n",
        "    FILE *mask_file = fopen(argv[4], \"r\");\n",
        "    if (!mask_file) {\n",
        "        printf(\"Error opening mask file!\\n\");\n",
        "        return 1;\n",
        "    }\n",
        "\n",
        "    int mask_dim;\n",
        "    fscanf(mask_file, \"%d\", &mask_dim);\n",
        "    float *host_mask = (float *)malloc(mask_dim * mask_dim * sizeof(float));\n",
        "\n",
        "    for (int i = 0; i < mask_dim; ++i) {\n",
        "        for (int j = 0; j < mask_dim; ++j) {\n",
        "            fscanf(mask_file, \"%f\", &host_mask[i * mask_dim + j]);\n",
        "        }\n",
        "    }\n",
        "    fclose(mask_file);\n",
        "\n",
        "    cudaMemcpyToSymbol(mask, host_mask, MASK_DIM * MASK_DIM * sizeof(float));\n",
        "\n",
        "    printf(\"Reading image...\\n\");\n",
        "\n",
        "    std::vector<std::string> files = listFiles(argv[1]);\n",
        "    int batch_size = atoi(argv[3]);\n",
        "    int width, height, comp;\n",
        "    unsigned char *d_in, *d_out;\n",
        "\n",
        "\n",
        "    std::vector<unsigned char> imageData;\n",
        "    int totalSize = 0;\n",
        "    // int padded_width, padded_height;\n",
        "    for (int b = 0; b < batch_size; ++b) {\n",
        "        char input_image_path[100];\n",
        "        sprintf(input_image_path, \"%s/%s\", argv[1], files[b].c_str());\n",
        "        // int width1, height1, comp1;\n",
        "        unsigned char *data = stbi_load(input_image_path, &width, &height, &comp, 0);\n",
        "        int size = width * height * comp;\n",
        "        totalSize += size;\n",
        "        // print width, height, comp\n",
        "        std::cout << \"width = \" << width << \", height = \" << height << \", comp = \" << comp << std::endl;\n",
        "        imageData.insert(imageData.end(), data, data + size);\n",
        "        stbi_image_free(data);\n",
        "    }\n",
        "\n",
        "    cudaMalloc(&d_in, batch_size * width * height * comp);\n",
        "    cudaMalloc(&d_out, batch_size * width * height);\n",
        "    // print the vector size\n",
        "    std::cout << \"Size of the vector: \" << imageData.size() << std::endl;\n",
        "\n",
        "    // Copy the concatenated image data to the GPU\n",
        "    cudaMemcpy(d_in, imageData.data(), totalSize * sizeof(unsigned char), cudaMemcpyHostToDevice);\n",
        "\n",
        "        // convolution_3D_input_kernelw<<<dim3((width + 16 - 1) / 16, (height + 16 - 1) / 16, batch_size), dim3(16, 16)>>>(d_in, d_out, width, height, comp, batch_size);\n",
        "        int block_width = O_TILE_WIDTH + mask_dim - 1;\n",
        "        dim3 dimBlock(block_width, block_width);\n",
        "        dim3 dimGrid((width - 1)/O_TILE_WIDTH +1, (height - 1)/O_TILE_WIDTH +1, batch_size);\n",
        "\n",
        "      float *d_mask;\n",
        "      cudaMalloc(&d_mask, mask_dim * mask_dim * sizeof(float));\n",
        "      cudaMemcpy(d_mask, host_mask, mask_dim * mask_dim * sizeof(float), cudaMemcpyHostToDevice);\n",
        "\n",
        "    //\n",
        "        int shared_mem_size = 3 * (block_width) * (block_width) * sizeof(unsigned char) + mask_dim * mask_dim * sizeof(float);\n",
        "        // convolution_3D_input_kernelw<<<dimGrid, dimBlock>>>(d_in, d_out, width, height, comp, batch_size);\n",
        "        convolution_3D_input_kernelwds<<<dimGrid, dimBlock,shared_mem_size>>>(d_in, d_out, width, height, comp, batch_size,mask_dim,d_mask);\n",
        "\n",
        "\n",
        "        unsigned char *out = (unsigned char *)malloc(batch_size * width * height);\n",
        "        cudaMemcpy(out, d_out, batch_size * width * height, cudaMemcpyDeviceToHost);\n",
        "\n",
        "        for (int b = 0; b < batch_size; ++b) {\n",
        "            char output_image_path[100];\n",
        "            sprintf(output_image_path, \"%s/image_%d.jpg\", argv[2], b);\n",
        "            stbi_write_jpg(output_image_path, width, height, 1, out + b * (width * height), 100);\n",
        "        }\n",
        "\n",
        "        free(out);\n",
        "        cudaFree(d_in);\n",
        "        cudaFree(d_out);\n",
        "\n",
        "        return 0;\n",
        "}\n",
        "\n",
        "\n",
        "\n",
        "\n"
      ]
    },
    {
      "cell_type": "code",
      "execution_count": null,
      "metadata": {
        "colab": {
          "base_uri": "https://localhost:8080/"
        },
        "id": "-qHGUkmSsEsn",
        "outputId": "245af693-abb6-4d95-9a01-0f024ba9e389"
      },
      "outputs": [
        {
          "name": "stdout",
          "output_type": "stream",
          "text": [
            "\u001b[01m\u001b[0m\u001b[01mstb/stb_image.h(4275)\u001b[0m: \u001b[01;35mwarning\u001b[0m #550-D: variable \u001b[01m\"old_limit\"\u001b[0m was set but never used\n",
            "     unsigned int cur, limit, old_limit;\n",
            "                              ^\n",
            "\n",
            "\u001b[01;36m\u001b[0m\u001b[01;36mRemark\u001b[0m: The warnings can be suppressed with \"-diag-suppress <warning-number>\"\n",
            "\n",
            "\u001b[01m\u001b[0m\u001b[01mstb/stb_image.h(5182)\u001b[0m: \u001b[01;35mwarning\u001b[0m #550-D: variable \u001b[01m\"idata_limit_old\"\u001b[0m was set but never used\n",
            "                 stbi__uint32 idata_limit_old = idata_limit;\n",
            "                              ^\n",
            "\n",
            "\u001b[01m\u001b[0m\u001b[01mstb/stb_image.h(6969)\u001b[0m: \u001b[01;35mwarning\u001b[0m #550-D: variable \u001b[01m\"out_size\"\u001b[0m was set but never used\n",
            "        int out_size = 0;\n",
            "            ^\n",
            "\n",
            "\u001b[01m\u001b[0m\u001b[01mstb/stb_image.h(6970)\u001b[0m: \u001b[01;35mwarning\u001b[0m #550-D: variable \u001b[01m\"delays_size\"\u001b[0m was set but never used\n",
            "        int delays_size = 0;\n",
            "            ^\n",
            "\n",
            "\u001b[01m\u001b[0m\u001b[01mk2c.cu(83)\u001b[0m: \u001b[01;35mwarning\u001b[0m #177-D: variable \u001b[01m\"curRow\"\u001b[0m was declared but never referenced\n",
            "                  int curRow = Row - (maskWidth / 2) + j;\n",
            "                      ^\n",
            "\n",
            "\u001b[01m\u001b[0m\u001b[01mk2c.cu(84)\u001b[0m: \u001b[01;35mwarning\u001b[0m #177-D: variable \u001b[01m\"curCol\"\u001b[0m was declared but never referenced\n",
            "                  int curCol = Col - (maskWidth / 2) + k;\n",
            "                      ^\n",
            "\n",
            "\u001b[01m\u001b[0m\u001b[01mk2c.cu(44)\u001b[0m: \u001b[01;35mwarning\u001b[0m #177-D: variable \u001b[01m\"mask3\"\u001b[0m was declared but never referenced\n",
            "      float *mask3 = (float*)(tile_B + (threads_per_block_y + maskWidth - 1) * (threads_per_block_x + maskWidth - 1));\n",
            "             ^\n",
            "\n"
          ]
        }
      ],
      "source": [
        "!nvcc k2c.cu -o k2c.out"
      ]
    },
    {
      "cell_type": "code",
      "execution_count": null,
      "metadata": {
        "colab": {
          "base_uri": "https://localhost:8080/"
        },
        "id": "7ESaFo1kr_E5",
        "outputId": "85820c54-a753-4c26-c5ed-8b5bce89ef39"
      },
      "outputs": [
        {
          "name": "stdout",
          "output_type": "stream",
          "text": [
            "==20350== NVPROF is profiling process 20350, command: ./k2c.out img out 3 mask.txt\n",
            "Reading image...\n",
            "width = 1980, height = 1289, comp = 3\n",
            "width = 1980, height = 1289, comp = 3\n",
            "width = 1980, height = 1289, comp = 3\n",
            "Size of the vector: 22969980\n",
            "==20350== Profiling application: ./k2c.out img out 3 mask.txt\n",
            "==20350== Profiling result:\n",
            "            Type  Time(%)      Time     Calls       Avg       Min       Max  Name\n",
            " GPU activities:   86.53%  40.065ms         1  40.065ms  40.065ms  40.065ms  convolution_3D_out_kernelwdsf(unsigned char*, unsigned char*, int, int, int, int, int)\n",
            "                   10.04%  4.6469ms         3  1.5490ms     704ns  4.6450ms  [CUDA memcpy HtoD]\n",
            "                    3.44%  1.5912ms         1  1.5912ms  1.5912ms  1.5912ms  [CUDA memcpy DtoH]\n",
            "      API calls:   66.00%  94.750ms         1  94.750ms  94.750ms  94.750ms  cudaMemcpyToSymbol\n",
            "                   32.59%  46.779ms         3  15.593ms  16.603us  41.919ms  cudaMemcpy\n",
            "                    0.91%  1.3045ms         2  652.23us  294.65us  1.0098ms  cudaFree\n",
            "                    0.35%  503.20us         3  167.73us  80.055us  251.76us  cudaMalloc\n",
            "                    0.10%  141.69us       114  1.2420us     137ns  58.127us  cuDeviceGetAttribute\n",
            "                    0.03%  49.276us         1  49.276us  49.276us  49.276us  cudaLaunchKernel\n",
            "                    0.01%  11.953us         1  11.953us  11.953us  11.953us  cuDeviceGetName\n",
            "                    0.01%  8.2290us         1  8.2290us  8.2290us  8.2290us  cuDeviceGetPCIBusId\n",
            "                    0.00%  4.6470us         1  4.6470us  4.6470us  4.6470us  cuDeviceTotalMem\n",
            "                    0.00%  1.6450us         3     548ns     183ns  1.1800us  cuDeviceGetCount\n",
            "                    0.00%  1.0160us         2     508ns     216ns     800ns  cuDeviceGet\n",
            "                    0.00%     650ns         1     650ns     650ns     650ns  cuModuleGetLoadingMode\n",
            "                    0.00%     357ns         1     357ns     357ns     357ns  cuDeviceGetUuid\n"
          ]
        }
      ],
      "source": [
        "!nvprof ./k2c.out img out 3 mask.txt"
      ]
    },
    {
      "cell_type": "code",
      "execution_count": null,
      "metadata": {
        "colab": {
          "base_uri": "https://localhost:8080/"
        },
        "id": "F8AksFq4sqgT",
        "outputId": "74801fbd-dcc5-49d7-d880-9868f4082ff9"
      },
      "outputs": [
        {
          "name": "stdout",
          "output_type": "stream",
          "text": [
            "Writing k1c.cu\n"
          ]
        }
      ],
      "source": [
        "%%writefile k1c.cu\n",
        "// %%writefile k1.cu\n",
        "#define STB_IMAGE_IMPLEMENTATION\n",
        "#define K 3\n",
        "#include <stdio.h>\n",
        "\n",
        "#include \"stb/stb_image.h\"\n",
        "#define STB_IMAGE_WRITE_IMPLEMENTATION\n",
        "#include \"stb/stb_image_write.h\"\n",
        "//#include <windows.h>\n",
        "#include <filesystem>\n",
        "#include <string>\n",
        "#include <vector>\n",
        "#include <iostream>\n",
        "\n",
        "\n",
        "#define STB_IMAGE_IMPLEMENTATION\n",
        "#define STB_IMAGE_WRITE_IMPLEMENTATION\n",
        "#define MASK_DIM 9\n",
        "\n",
        "__constant__ float mask[MASK_DIM *MASK_DIM];\n",
        "\n",
        "// __global__\n",
        "// void convolution_3D_batch_kernel(unsigned char *in, unsigned char *out, int w, int h, int comp, int batch_size) {\n",
        "//     int Col = blockIdx.x * blockDim.x + threadIdx.x;\n",
        "//     int Row = blockIdx.y * blockDim.y + threadIdx.y;\n",
        "//     int image_idx = blockIdx.z;\n",
        "\n",
        "//     if (Col < w && Row < h) {\n",
        "//         int pixVal_R = 0;\n",
        "//         int pixVal_G = 0;\n",
        "//         int pixVal_B = 0;\n",
        "//         int N_start_col = Col - (MASK_DIM/2);\n",
        "//         int N_start_row = Row - (MASK_DIM/2);\n",
        "\n",
        "//             if (image_idx < batch_size) {\n",
        "//             int index_base = image_idx * (w * h * comp);\n",
        "//             for(int j = 0; j < MASK_DIM; ++j) {\n",
        "//                 for(int k = 0; k < MASK_DIM; ++k) {\n",
        "//                     int curRow = N_start_row + j;\n",
        "//                     int curCol = N_start_col + k;\n",
        "//                     if(curRow > -1 && curRow < h && curCol > -1 && curCol < w) {\n",
        "//                         int index = index_base + ((curRow * w + curCol) * comp);\n",
        "//                         float mask_value = mask[j * MASK_DIM + k];\n",
        "//                         pixVal_R += in[index] * mask_value;\n",
        "//                         pixVal_G += in[index + 1] * mask_value;\n",
        "//                         pixVal_B += in[index + 2] * mask_value;\n",
        "//                     }\n",
        "//                 }\n",
        "//             }\n",
        "//         }\n",
        "\n",
        "//         int index = ((image_idx * w * h) + (Row * w + Col));\n",
        "//         out[index] = ((unsigned char)(pixVal_R) + (unsigned char)(pixVal_G) + (unsigned char)(pixVal_B))/3;\n",
        "//     }\n",
        "// }\n",
        "\n",
        "__global__\n",
        "void convolution_3D_batch_kernelDA(unsigned char *in, unsigned char *out, int w, int h, int comp, int batch_size, float *mask,int mask_dim) {\n",
        "    extern __shared__ float shared_mask[];\n",
        "    int Col = blockIdx.x * blockDim.x + threadIdx.x;\n",
        "    int Row = blockIdx.y * blockDim.y + threadIdx.y;\n",
        "    int image_idx = blockIdx.z;\n",
        "    // if (threadIdx.x < mask_dim && threadIdx.y < mask_dim) {\n",
        "    //     shared_mask[threadIdx.y * mask_dim + threadIdx.x] = mask[threadIdx.y * mask_dim + threadIdx.x];\n",
        "    // }\n",
        "    // __syncthreads();\n",
        "\n",
        "    if (Col < w && Row < h) {\n",
        "        int pixVal_R = 0;\n",
        "        int pixVal_G = 0;\n",
        "        int pixVal_B = 0;\n",
        "        int N_start_col = Col - (mask_dim/2);\n",
        "        int N_start_row = Row - (mask_dim/2);\n",
        "\n",
        "        if (image_idx < batch_size) {\n",
        "            int index_base = image_idx * (w * h * comp);\n",
        "            for(int j = 0; j < mask_dim; ++j) {\n",
        "                for(int k = 0; k < mask_dim; ++k) {\n",
        "                    int curRow = N_start_row + j;\n",
        "                    int curCol = N_start_col + k;\n",
        "                    if(curRow > -1 && curRow < h && curCol > -1 && curCol < w) {\n",
        "                        int index = index_base + ((curRow * w + curCol) * comp);\n",
        "                        float mask_value = mask[j * mask_dim + k];\n",
        "                        pixVal_R += in[index] * mask_value;\n",
        "                        pixVal_G += in[index + 1] * mask_value;\n",
        "                        pixVal_B += in[index + 2] * mask_value;\n",
        "                    }\n",
        "                }\n",
        "            }\n",
        "        }\n",
        "\n",
        "        int index = ((image_idx * w * h) + (Row * w + Col));\n",
        "        out[index] = ((unsigned char)(pixVal_R) + (unsigned char)(pixVal_G) + (unsigned char)(pixVal_B));\n",
        "    }\n",
        "}\n",
        "\n",
        "std::vector<std::string> listFiles(const std::string &folderPath) {\n",
        "    std::vector<std::string> files;\n",
        "\n",
        "    try {\n",
        "        for (const auto &entry : std::filesystem::directory_iterator(folderPath)) {\n",
        "            if (!entry.is_directory()) {\n",
        "                files.push_back(entry.path().filename().string());\n",
        "            }\n",
        "        }\n",
        "    } catch (const std::filesystem::filesystem_error &e) {\n",
        "        std::cerr << \"Error reading directory: \" << e.what() << std::endl;\n",
        "    }\n",
        "\n",
        "    return files;\n",
        "}\n",
        "\n",
        "int main(int argc, char *argv[]) {\n",
        "    if (argc != 5) {\n",
        "        printf(\"Usage: %s input_folder_path output_folder_path batch_size mask.txt\\n\", argv[0]);\n",
        "        return 1;\n",
        "    }\n",
        "\n",
        "    FILE *mask_file = fopen(argv[4], \"r\");\n",
        "    if (!mask_file) {\n",
        "        printf(\"Error opening mask file!\\n\");\n",
        "        return 1;\n",
        "    }\n",
        "\n",
        "    int mask_dim;\n",
        "    fscanf(mask_file, \"%d\", &mask_dim);\n",
        "    float *host_mask = new float[mask_dim * mask_dim];\n",
        "    for (int i = 0; i < mask_dim; ++i) {\n",
        "        for (int j = 0; j < mask_dim; ++j) {\n",
        "            fscanf(mask_file, \"%f\", &host_mask[i * mask_dim + j]);\n",
        "        }\n",
        "    }\n",
        "    fclose(mask_file);\n",
        "    float *d_mask;\n",
        "    cudaMalloc(&d_mask, mask_dim * mask_dim * sizeof(float));\n",
        "    cudaMemcpy(d_mask, host_mask, mask_dim * mask_dim * sizeof(float), cudaMemcpyHostToDevice);\n",
        "    cudaMemcpyToSymbol(mask, host_mask, MASK_DIM * MASK_DIM * sizeof(float));\n",
        "    printf(\"Reading image...\\n\");\n",
        "\n",
        "    std::vector<std::string> files = listFiles(argv[1]);\n",
        "    int batch_size = atoi(argv[3]);\n",
        "    int width, height, comp;\n",
        "    unsigned char *d_in, *d_out;\n",
        "\n",
        "    std::vector<unsigned char> imageData;\n",
        "    int totalSize = 0;\n",
        "    for (int b = 0; b < batch_size; ++b) {\n",
        "        char input_image_path[100];\n",
        "        sprintf(input_image_path, \"%s/%s\", argv[1], files[b].c_str());\n",
        "        unsigned char *data = stbi_load(input_image_path, &width, &height, &comp, 0);\n",
        "        int size = width * height * comp;\n",
        "        totalSize += size;\n",
        "        std::cout << \"width = \" << width << \", height = \" << height << \", comp = \" << comp << std::endl;\n",
        "        imageData.insert(imageData.end(), data, data + size);\n",
        "        stbi_image_free(data);\n",
        "    }\n",
        "\n",
        "    cudaMalloc(&d_in, batch_size * width * height * comp);\n",
        "    cudaMalloc(&d_out, batch_size * width * height);\n",
        "    std::cout << \"Size of the vector: \" << imageData.size() << std::endl;\n",
        "\n",
        "    cudaMemcpy(d_in, imageData.data(), totalSize * sizeof(unsigned char), cudaMemcpyHostToDevice);\n",
        "\n",
        "        // convolution_3D_batch_kernel<<<dim3((width + 16 - 1) / 16, (height + 16 - 1) / 16, batch_size), dim3(16, 16)>>>(d_in, d_out, width, height, comp, batch_size);\n",
        "        convolution_3D_batch_kernelDA<<<dim3((width + 16 - 1) / 16, (height + 16 - 1) / 16, batch_size), dim3(16, 16), mask_dim * mask_dim * sizeof(float)>>>(d_in, d_out, width, height, comp, batch_size, d_mask,mask_dim);\n",
        "        unsigned char *out = (unsigned char *)malloc(batch_size * width * height);\n",
        "        cudaMemcpy(out, d_out, batch_size * width * height, cudaMemcpyDeviceToHost);\n",
        "\n",
        "        for (int b = 0; b < batch_size; ++b) {\n",
        "            char output_image_path[100];\n",
        "            sprintf(output_image_path, \"%s/image_%d.jpg\", argv[2], b);\n",
        "            stbi_write_jpg(output_image_path, width, height, 1, out + b * (width * height), 100);\n",
        "        }\n",
        "\n",
        "        free(out);\n",
        "        cudaFree(d_in);\n",
        "        cudaFree(d_out);\n",
        "\n",
        "        return 0;\n",
        "}\n"
      ]
    },
    {
      "cell_type": "code",
      "execution_count": null,
      "metadata": {
        "colab": {
          "base_uri": "https://localhost:8080/"
        },
        "id": "2Y-WpucguUQV",
        "outputId": "856bb25c-f8c7-4bcc-9668-3b48e9bdcc67"
      },
      "outputs": [
        {
          "name": "stdout",
          "output_type": "stream",
          "text": [
            "\u001b[01m\u001b[0m\u001b[01mstb/stb_image.h(4275)\u001b[0m: \u001b[01;35mwarning\u001b[0m #550-D: variable \u001b[01m\"old_limit\"\u001b[0m was set but never used\n",
            "     unsigned int cur, limit, old_limit;\n",
            "                              ^\n",
            "\n",
            "\u001b[01;36m\u001b[0m\u001b[01;36mRemark\u001b[0m: The warnings can be suppressed with \"-diag-suppress <warning-number>\"\n",
            "\n",
            "\u001b[01m\u001b[0m\u001b[01mstb/stb_image.h(5182)\u001b[0m: \u001b[01;35mwarning\u001b[0m #550-D: variable \u001b[01m\"idata_limit_old\"\u001b[0m was set but never used\n",
            "                 stbi__uint32 idata_limit_old = idata_limit;\n",
            "                              ^\n",
            "\n",
            "\u001b[01m\u001b[0m\u001b[01mstb/stb_image.h(6969)\u001b[0m: \u001b[01;35mwarning\u001b[0m #550-D: variable \u001b[01m\"out_size\"\u001b[0m was set but never used\n",
            "        int out_size = 0;\n",
            "            ^\n",
            "\n",
            "\u001b[01m\u001b[0m\u001b[01mstb/stb_image.h(6970)\u001b[0m: \u001b[01;35mwarning\u001b[0m #550-D: variable \u001b[01m\"delays_size\"\u001b[0m was set but never used\n",
            "        int delays_size = 0;\n",
            "            ^\n",
            "\n"
          ]
        }
      ],
      "source": [
        "!nvcc k1c.cu -o k1c.out"
      ]
    },
    {
      "cell_type": "code",
      "execution_count": null,
      "metadata": {
        "colab": {
          "base_uri": "https://localhost:8080/"
        },
        "id": "pWDnPaSZue6q",
        "outputId": "fee4b613-87b2-4b96-a529-b99c6f1699e9"
      },
      "outputs": [
        {
          "name": "stdout",
          "output_type": "stream",
          "text": [
            "==3295== NVPROF is profiling process 3295, command: ./k1c.out img out 3 mask9.txt\n",
            "Reading image...\n",
            "width = 5000, height = 5000, comp = 3\n",
            "width = 5000, height = 5000, comp = 3\n",
            "width = 5000, height = 5000, comp = 3\n",
            "Size of the vector: 225000000\n",
            "==3295== Profiling application: ./k1c.out img out 3 mask9.txt\n",
            "==3295== Profiling result:\n",
            "            Type  Time(%)      Time     Calls       Avg       Min       Max  Name\n",
            " GPU activities:   58.55%  147.87ms         1  147.87ms  147.87ms  147.87ms  convolution_3D_batch_kernelDA(unsigned char*, unsigned char*, int, int, int, int, float*, int)\n",
            "                   21.96%  55.449ms         1  55.449ms  55.449ms  55.449ms  [CUDA memcpy DtoH]\n",
            "                   19.49%  49.234ms         3  16.411ms     704ns  49.232ms  [CUDA memcpy HtoD]\n",
            "      API calls:   53.27%  253.93ms         3  84.644ms  30.678us  204.41ms  cudaMemcpy\n",
            "                   46.04%  219.47ms         3  73.156ms  184.19us  218.84ms  cudaMalloc\n",
            "                    0.55%  2.6031ms         2  1.3015ms  391.87us  2.2112ms  cudaFree\n",
            "                    0.09%  420.53us         1  420.53us  420.53us  420.53us  cudaMemcpyToSymbol\n",
            "                    0.03%  153.52us       114  1.3460us     156ns  62.003us  cuDeviceGetAttribute\n",
            "                    0.01%  62.877us         1  62.877us  62.877us  62.877us  cudaLaunchKernel\n",
            "                    0.00%  11.687us         1  11.687us  11.687us  11.687us  cuDeviceGetName\n",
            "                    0.00%  6.2750us         1  6.2750us  6.2750us  6.2750us  cuDeviceGetPCIBusId\n",
            "                    0.00%  4.8520us         1  4.8520us  4.8520us  4.8520us  cuDeviceTotalMem\n",
            "                    0.00%  2.3120us         3     770ns     234ns  1.7450us  cuDeviceGetCount\n",
            "                    0.00%  1.0080us         2     504ns     226ns     782ns  cuDeviceGet\n",
            "                    0.00%     568ns         1     568ns     568ns     568ns  cuModuleGetLoadingMode\n",
            "                    0.00%     250ns         1     250ns     250ns     250ns  cuDeviceGetUuid\n"
          ]
        }
      ],
      "source": [
        "!nvprof ./k1c.out img out 3 mask9.txt"
      ]
    },
    {
      "cell_type": "code",
      "execution_count": null,
      "metadata": {
        "colab": {
          "base_uri": "https://localhost:8080/"
        },
        "id": "Gaw-DUdGuyKn",
        "outputId": "9485a85e-4f30-442d-e53b-ef6740601579"
      },
      "outputs": [
        {
          "name": "stdout",
          "output_type": "stream",
          "text": [
            "==3404== NVPROF is profiling process 3404, command: ./k3c.out img out 3 mask9.txt\n",
            "Reading image...\n",
            "width = 5000, height = 5000, comp = 3\n",
            "width = 5000, height = 5000, comp = 3\n",
            "width = 5000, height = 5000, comp = 3\n",
            "Size of the vector: 225000000\n",
            "==3404== Profiling application: ./k3c.out img out 3 mask9.txt\n",
            "==3404== Profiling result:\n",
            "            Type  Time(%)      Time     Calls       Avg       Min       Max  Name\n",
            " GPU activities:   45.02%  95.407ms         1  95.407ms  95.407ms  95.407ms  convolution_3D_input_kernelwds(unsigned char*, unsigned char*, int, int, int, int, int, float*)\n",
            "                   29.42%  62.345ms         3  20.782ms     704ns  62.343ms  [CUDA memcpy HtoD]\n",
            "                   25.56%  54.162ms         1  54.162ms  54.162ms  54.162ms  [CUDA memcpy DtoH]\n",
            "      API calls:   52.92%  213.28ms         3  71.093ms  20.605us  150.68ms  cudaMemcpy\n",
            "                   46.41%  187.03ms         1  187.03ms  187.03ms  187.03ms  cudaMemcpyToSymbol\n",
            "                    0.39%  1.5846ms         2  792.29us  458.92us  1.1257ms  cudaFree\n",
            "                    0.22%  895.34us         3  298.45us  195.34us  493.36us  cudaMalloc\n",
            "                    0.04%  150.87us       114  1.3230us     143ns  60.685us  cuDeviceGetAttribute\n",
            "                    0.01%  46.469us         1  46.469us  46.469us  46.469us  cudaLaunchKernel\n",
            "                    0.00%  15.746us         1  15.746us  15.746us  15.746us  cuDeviceGetName\n",
            "                    0.00%  5.6990us         1  5.6990us  5.6990us  5.6990us  cuDeviceTotalMem\n",
            "                    0.00%  5.6880us         1  5.6880us  5.6880us  5.6880us  cuDeviceGetPCIBusId\n",
            "                    0.00%  2.1040us         1  2.1040us  2.1040us  2.1040us  cuModuleGetLoadingMode\n",
            "                    0.00%  1.8570us         3     619ns     186ns  1.0960us  cuDeviceGetCount\n",
            "                    0.00%  1.0950us         2     547ns     272ns     823ns  cuDeviceGet\n",
            "                    0.00%     282ns         1     282ns     282ns     282ns  cuDeviceGetUuid\n"
          ]
        }
      ],
      "source": [
        "!nvprof ./k3c.out img out 3 mask9.txt"
      ]
    },
    {
      "cell_type": "code",
      "execution_count": null,
      "metadata": {
        "id": "08dEEX7e0pZV"
      },
      "outputs": [],
      "source": []
    },
    {
      "cell_type": "code",
      "execution_count": null,
      "metadata": {
        "colab": {
          "base_uri": "https://localhost:8080/"
        },
        "id": "LuwTLlCA0m0a",
        "outputId": "fa254227-28cc-48c0-c57e-129bf65b2304"
      },
      "outputs": [
        {
          "name": "stdout",
          "output_type": "stream",
          "text": [
            "==3503== NVPROF is profiling process 3503, command: ./k2c.out img out 3 mask9.txt\n",
            "Reading image...\n",
            "width = 5000, height = 5000, comp = 3\n",
            "width = 5000, height = 5000, comp = 3\n",
            "width = 5000, height = 5000, comp = 3\n",
            "Size of the vector: 225000000\n",
            "==3503== Profiling application: ./k2c.out img out 3 mask9.txt\n",
            "==3503== Profiling result:\n",
            "            Type  Time(%)      Time     Calls       Avg       Min       Max  Name\n",
            " GPU activities:   43.96%  81.441ms         1  81.441ms  81.441ms  81.441ms  convolution_3D_out_kernelwdsf2(unsigned char*, unsigned char*, int, int, int, int, int, float*)\n",
            "                   28.77%  53.290ms         1  53.290ms  53.290ms  53.290ms  [CUDA memcpy DtoH]\n",
            "                   27.27%  50.520ms         3  16.840ms     704ns  50.518ms  [CUDA memcpy HtoD]\n",
            "      API calls:   50.38%  186.61ms         3  62.204ms  19.666us  135.83ms  cudaMemcpy\n",
            "                   48.81%  180.77ms         1  180.77ms  180.77ms  180.77ms  cudaMemcpyToSymbol\n",
            "                    0.49%  1.8090ms         2  904.51us  597.02us  1.2120ms  cudaFree\n",
            "                    0.25%  928.55us         3  309.52us  190.00us  502.89us  cudaMalloc\n",
            "                    0.04%  150.20us       114  1.3170us     146ns  60.025us  cuDeviceGetAttribute\n",
            "                    0.01%  50.594us         1  50.594us  50.594us  50.594us  cudaLaunchKernel\n",
            "                    0.01%  30.939us         1  30.939us  30.939us  30.939us  cuDeviceGetPCIBusId\n",
            "                    0.00%  17.247us         1  17.247us  17.247us  17.247us  cuDeviceGetName\n",
            "                    0.00%  5.3310us         1  5.3310us  5.3310us  5.3310us  cuDeviceTotalMem\n",
            "                    0.00%  2.1170us         3     705ns     265ns  1.4470us  cuDeviceGetCount\n",
            "                    0.00%  1.1140us         2     557ns     194ns     920ns  cuDeviceGet\n",
            "                    0.00%     839ns         1     839ns     839ns     839ns  cuModuleGetLoadingMode\n",
            "                    0.00%     226ns         1     226ns     226ns     226ns  cuDeviceGetUuid\n"
          ]
        }
      ],
      "source": [
        "!nvprof ./k2c.out img out 3 mask9.txt"
      ]
    },
    {
      "cell_type": "code",
      "execution_count": 23,
      "metadata": {
        "id": "r1UURzbl03be"
      },
      "outputs": [],
      "source": [
        "import numpy as np\n",
        "import cv2\n",
        "def generate_image():\n",
        "\n",
        "    # Create a random image\n",
        "    image = np.random.randint(0, 256, (5000, 5000, 3), dtype=np.uint8)\n",
        "    # Save the image\n",
        "    cv2.imwrite('img/image_2.jpg', image)\n",
        "generate_image()"
      ]
    },
    {
      "cell_type": "code",
      "execution_count": 21,
      "metadata": {
        "colab": {
          "base_uri": "https://localhost:8080/"
        },
        "id": "JpcEM2GbN2Ig",
        "outputId": "9d31c70d-9c6a-4320-9afe-c6afc7939451"
      },
      "outputs": [
        {
          "name": "stdout",
          "output_type": "stream",
          "text": [
            "Overwriting conv.py\n"
          ]
        }
      ],
      "source": [
        "%%writefile conv.py\n",
        "\n",
        "import torch\n",
        "import torch.nn as nn\n",
        "import torch.nn.functional as F\n",
        "import os\n",
        "from PIL import Image\n",
        "import sys\n",
        "import numpy as np\n",
        "import matplotlib.pyplot as plt\n",
        "import time\n",
        "\n",
        "\n",
        "class Convolution3D(nn.Module):\n",
        "    def __init__(self, mask):\n",
        "        super(Convolution3D, self).__init__()\n",
        "        self.mask = mask\n",
        "\n",
        "    def forward2(self, input_images):\n",
        "        # Convert input images to grayscale\n",
        "        input_images_gray = input_images.mean(dim=1, keepdim=True)\n",
        "        print(input_images_gray.shape)\n",
        "        # plt.imshow(input_images_gray)\n",
        "        output_images = F.conv2d(input_images, self.mask, padding=2)  # Adjust padding as needed\n",
        "        return output_images.sum(dim=1, keepdim=True)  # Sum across the channels d\n",
        "    def forward1(self, input_images):\n",
        "        output_images = []\n",
        "        for channel in range(input_images.size(1)):  # Loop over each channel\n",
        "            input_channel = input_images[:, channel:channel+1, :, :]  # Select single channel\n",
        "            output_channel = F.conv2d(input_channel, self.mask, padding=2)  # Apply convolution\n",
        "            output_images.append(output_channel)\n",
        "        output_images = torch.cat(output_images, dim=1)  # Concatenate along the channel dimension\n",
        "        return output_images.sum(dim=1, keepdim=True)  # Sum across the channels to get single-channel output\n",
        "    def forward(self, input_images):\n",
        "        print(\"dim of input_images\", input_images.size(1))\n",
        "        output_images = []\n",
        "        padding = (self.mask.shape[2] // 2, self.mask.shape[3] // 2)  # Calculate padding for height and width\n",
        "\n",
        "        for channel in range(input_images.size(1)):  # Loop over each channel\n",
        "            input_channel = input_images[:, channel:channel+1, :, :]  # Select single channel\n",
        "            output_channel = F.conv2d(input_channel, self.mask, padding=padding)  # Apply convolution with padding to maintain input size\n",
        "            output_images.append(output_channel)\n",
        "        output_images = torch.cat(output_images, dim=1)  # Concatenate along the channel dimension\n",
        "        return output_images.sum(dim=1, keepdim=True)  # Sum across the channels to get single-channel output\n",
        "    def forward6(self, input_images):\n",
        "        print(\"dim of input_images\", input_images.size())\n",
        "        output_images = []\n",
        "        padding = (self.mask.shape[2] // 2, self.mask.shape[3] // 2)  # Calculate padding for height and width\n",
        "        for channel in range(input_images.size(1)):  # Loop over each channel\n",
        "            input_channel = input_images[:, channel:channel+1, :, :]  # Select single channel\n",
        "            output_channel = F.conv2d(input_channel, self.mask, padding=padding, padding_mode='replicate')  # Apply convolution with padding to maintain input size\n",
        "            output_images.append(output_channel)\n",
        "        output_images = torch.cat(output_images, dim=1)  # Concatenate along the channel dimension\n",
        "        return output_images\n",
        "def load_mask(mask_file):\n",
        "    with open(mask_file, 'r') as f:\n",
        "        mask_data = f.readlines()\n",
        "        mask_size = int(mask_data[0])\n",
        "        mask_values = [[float(val) for val in line.split()] for line in mask_data[1:]]\n",
        "        mask_tensor = torch.tensor(mask_values).unsqueeze(0).unsqueeze(0)  # Single-channel mask\n",
        "    return mask_tensor\n",
        "\n",
        "def main(input_folder, output_folder, batch_size, mask_file):\n",
        "    # Load mask\n",
        "    mask = load_mask(mask_file)\n",
        "\n",
        "    # Read input images from folder\n",
        "    input_images = []\n",
        "    for filename in os.listdir(input_folder)[:batch_size]:\n",
        "        try:\n",
        "            img = Image.open(os.path.join(input_folder, filename)).convert('RGB')\n",
        "            img_tensor = torch.tensor(np.array(img)).unsqueeze(0).permute(0, 3, 1, 2).float()  # Convert image to tensor with dtype float32\n",
        "            input_images.append(img_tensor)\n",
        "        except Exception as e:\n",
        "            print(f\"Error loading image {filename}: {e}\")\n",
        "    # Stack input images into a single tensor\n",
        "    input_images = torch.cat(input_images, dim=0)\n",
        "\n",
        "    # Initialize 3D convolution module\n",
        "    convolution_3d = Convolution3D(mask)\n",
        "\n",
        "    # Apply convolution\n",
        "    # output_images = convolution_3d(input_images)\n",
        "\n",
        "    start_time = time.time()\n",
        "\n",
        "    # Apply convolution\n",
        "    print(\"input_images\", input_images.shape)\n",
        "    output_images = convolution_3d(input_images)\n",
        "    print(\"output_images\", output_images.shape)\n",
        "\n",
        "    # Calculate execution time\n",
        "    execution_time = time.time() - start_time\n",
        "    print(\"Convolution execution time:\", execution_time / 3, \"seconds\")\n",
        "    # in ms\n",
        "    print(\"Convolution execution time:\", execution_time*1000 /3, \"ms\")\n",
        "    # Save output images\n",
        "    for i, output_image in enumerate(output_images):\n",
        "        output_image = output_image.squeeze().numpy().astype('uint8')\n",
        "        Image.fromarray(output_image).save(os.path.join(output_folder, f'output_{i}.png'))\n",
        "\n",
        "\n",
        "if __name__ == \"__main__\":\n",
        "    input_folder = sys.argv[1]\n",
        "    output_folder = sys.argv[2]\n",
        "    batch_size = int(sys.argv[3])\n",
        "    mask_file = sys.argv[4]\n",
        "    # input_folder = \"img2\"\n",
        "    # output_folder =\"out\"\n",
        "    # batch_size = 1\n",
        "    # mask_file = \"mask9.txt\"\n",
        "    main(input_folder, output_folder, batch_size, mask_file)\n"
      ]
    },
    {
      "cell_type": "code",
      "execution_count": 68,
      "metadata": {
        "colab": {
          "base_uri": "https://localhost:8080/",
          "height": 295
        },
        "id": "Fz9t6daY0AVs",
        "outputId": "e18fcff4-e186-4bfe-81b2-df2ba644acbc"
      },
      "outputs": [
        {
          "name": "stdout",
          "output_type": "stream",
          "text": [
            "(1289, 1980)\n",
            "(1289, 1980)\n",
            "number of different pixels: 2542036\n",
            "% of different pixels: 0.9960097483759237\n",
            "sum of all the difference values: 328390602\n",
            "average difference value: 0.5045827876722779\n"
          ]
        },
        {
          "data": {
            "image/png": "[encoded data removed]",
            "text/plain": [
              "<Figure size 1000x500 with 3 Axes>"
            ]
          },
          "metadata": {},
          "output_type": "display_data"
        }
      ],
      "source": [
        "\n",
        "from PIL import Image\n",
        "import numpy as np\n",
        "import matplotlib.pyplot as plt\n",
        "\n",
        "def show_pixel_difference(image1_path, image2_path):\n",
        "    # Open images\n",
        "    image1 = Image.open(image1_path).convert('L')  # Convert to grayscale\n",
        "    image2 = Image.open(image2_path).convert('L')  # Convert to grayscale\n",
        "\n",
        "    # Convert images to numpy arrays\n",
        "    image1_array = np.array(image1)\n",
        "    image2_array = np.array(image2)\n",
        "    print(image1_array.shape)\n",
        "    print(image2_array.shape)\n",
        "\n",
        "    # Compute pixel-wise absolute difference\n",
        "    diff_array = np.abs(image1_array - image2_array)\n",
        "\n",
        "    # print the max difference value\n",
        "    # print(\"max difference value:\", np.max(diff_array))\n",
        "    # print(\"min difference value:\", np.min(diff_array))\n",
        "\n",
        "    # count the number of different pixels\n",
        "    print(\"number of different pixels:\", np.sum(diff_array>0))\n",
        "    # % of different pixels\n",
        "    print(\"% of different pixels:\", np.sum(diff_array>0)/diff_array.size)\n",
        "\n",
        "    # sum of all the difference values and average difference value\n",
        "    print(\"sum of all the difference values:\", np.sum(diff_array))\n",
        "    print(\"average difference value:\", np.sum(diff_array)/(diff_array.size*255))\n",
        "\n",
        "\n",
        "\n",
        "\n",
        "    # Plot the difference\n",
        "    plt.figure(figsize=(10, 5))\n",
        "\n",
        "    # Original images\n",
        "    plt.subplot(1, 3, 1)\n",
        "    plt.imshow(image1_array, cmap='gray')\n",
        "    plt.title('From CUDA ')\n",
        "\n",
        "    plt.subplot(1, 3, 2)\n",
        "    plt.imshow(image2_array, cmap='gray')\n",
        "    plt.title('From Pytorch')\n",
        "\n",
        "    # Pixel-wise absolute difference\n",
        "    plt.subplot(1, 3, 3)\n",
        "    plt.imshow(diff_array, cmap='gray')\n",
        "    plt.title('Pixel-wise Difference')\n",
        "\n",
        "    plt.show()\n",
        "\n",
        "# Example usage:\n",
        "image1_path = 'out/image_0.jpg'\n",
        "image2_path = 'out/output_0.png'\n",
        "show_pixel_difference(image1_path, image2_path)\n"
      ]
    },
    {
      "cell_type": "code",
      "execution_count": 17,
      "metadata": {
        "id": "ObxSvV9A0MTR"
      },
      "outputs": [
        {
          "name": "stdout",
          "output_type": "stream",
          "text": [
            "e:\\CMP2024\\cmp2024\\computer engineering 10\\parallel computing\\labs\\lab4\\submit\\1_34_2_22\\stb/stb_image.h(4275): warning #550-D: variable \"old_limit\" was set but never used\n",
            "     unsigned int cur, limit, old_limit;\n",
            "                              ^\n",
            "\n",
            "Remark: The warnings can be suppressed with \"-diag-suppress <warning-number>\"\n",
            "\n",
            "e:\\CMP2024\\cmp2024\\computer engineering 10\\parallel computing\\labs\\lab4\\submit\\1_34_2_22\\stb/stb_image.h(5182): warning #550-D: variable \"idata_limit_old\" was set but never used\n",
            "                 stbi__uint32 idata_limit_old = idata_limit;\n",
            "                              ^\n",
            "\n",
            "e:\\CMP2024\\cmp2024\\computer engineering 10\\parallel computing\\labs\\lab4\\submit\\1_34_2_22\\stb/stb_image.h(6969): warning #550-D: variable \"out_size\" was set but never used\n",
            "        int out_size = 0;\n",
            "            ^\n",
            "\n",
            "e:\\CMP2024\\cmp2024\\computer engineering 10\\parallel computing\\labs\\lab4\\submit\\1_34_2_22\\stb/stb_image.h(6970): warning #550-D: variable \"delays_size\" was set but never used\n",
            "        int delays_size = 0;\n",
            "            ^\n",
            "\n",
            "K3_1_34_2_22.cu\n",
            "tmpxft_000041d0_00000000-10_K3_1_34_2_22.cudafe1.cpp\n",
            "   Creating library K3_1_34_2_22.lib and object K3_1_34_2_22.exp\n"
          ]
        }
      ],
      "source": [
        "# !nvcc K1_1_34_2_22.cu -o K1_1_34_2_22.exe\n",
        "# !nvcc K2_1_34_2_22.cu -o K2_1_34_2_22.exe\n",
        "!nvcc K3_1_34_2_22.cu -o K3_1_34_2_22.exe\n",
        "# !nvcc k1c.cu -o k1c.out\n",
        "# !nvcc k2c.cu -o k2c.out\n",
        "# !nvcc k3c.cu -o k3c.out"
      ]
    },
    {
      "cell_type": "code",
      "execution_count": 8,
      "metadata": {
        "colab": {
          "base_uri": "https://localhost:8080/"
        },
        "id": "vE9gv3Dw0OWt",
        "outputId": "04027a2e-8b3e-4d95-8ac9-ba6870b9f702"
      },
      "outputs": [
        {
          "name": "stderr",
          "output_type": "stream",
          "text": [
            "'.' is not recognized as an internal or external command,\n",
            "operable program or batch file.\n"
          ]
        }
      ],
      "source": [
        "!./K2_1_34_2_22.exe img outk2/7 5 maskA7.txt"
      ]
    },
    {
      "cell_type": "code",
      "execution_count": 67,
      "metadata": {
        "colab": {
          "base_uri": "https://localhost:8080/"
        },
        "id": "hcW0v3gk0O_O",
        "outputId": "6a589270-9ab4-4033-a8ee-d819acc54ac8"
      },
      "outputs": [
        {
          "name": "stdout",
          "output_type": "stream",
          "text": [
            "Reading image...\n",
            "width = 1980, height = 1289, comp = 3\n",
            "Size of the vector: 7656660\n"
          ]
        }
      ],
      "source": [
        "!./k2.out img out 1 mask25.txt"
      ]
    },
    {
      "cell_type": "code",
      "execution_count": 39,
      "metadata": {
        "colab": {
          "base_uri": "https://localhost:8080/"
        },
        "id": "aLGrzR5j0R0_",
        "outputId": "f2b5a866-0024-4d22-c364-378475855b76"
      },
      "outputs": [
        {
          "name": "stdout",
          "output_type": "stream",
          "text": [
            "Reading image...\n",
            "width = 1980, height = 1289, comp = 3\n",
            "Size of the vector: 7656660\n"
          ]
        }
      ],
      "source": [
        "!./K3_1_34_2_22.exe img outk3/7 5 mask7.txt"
      ]
    },
    {
      "cell_type": "code",
      "execution_count": 16,
      "metadata": {
        "colab": {
          "base_uri": "https://localhost:8080/"
        },
        "id": "ySPVoz3X0Tnw",
        "outputId": "597cf4c0-d04c-4f12-c415-4f7a89e10173"
      },
      "outputs": [
        {
          "name": "stdout",
          "output_type": "stream",
          "text": [
            "input_images torch.Size([5, 3, 280, 280])\n",
            "dim of input_images 3\n",
            "output_images torch.Size([5, 1, 280, 280])\n",
            "Convolution execution time: 0.005669991175333659 seconds\n",
            "Convolution execution time: 5.669991175333659 ms\n"
          ]
        }
      ],
      "source": [
        "!python B_1_34_2_22.py img outk3/python/7 5 mask7.txt"
      ]
    },
    {
      "cell_type": "code",
      "execution_count": 22,
      "metadata": {
        "colab": {
          "base_uri": "https://localhost:8080/"
        },
        "id": "Fi1yLKM80Y0a",
        "outputId": "3734ce4e-d491-46c6-bb49-8f1e1ba282b3"
      },
      "outputs": [
        {
          "name": "stdout",
          "output_type": "stream",
          "text": [
            "Mask of size 25 generated and saved to mask25.txt\n"
          ]
        }
      ],
      "source": [
        "# write a python script to generate a mask\n",
        "import numpy as np\n",
        "import os\n",
        "def generate_mask(mask_size, mask_file):\n",
        "    mask = np.zeros((mask_size, mask_size))\n",
        "    mask[mask_size//2, mask_size//2] = 1\n",
        "    np.savetxt(mask_file, mask, fmt='%d', delimiter=' ', header=str(mask_size), comments='')\n",
        "    print(f\"Mask of size {mask_size} generated and saved to {mask_file}\")\n",
        "\n",
        "mask_size = 25\n",
        "mask_file = 'mask25.txt'\n",
        "generate_mask(mask_size, mask_file)\n",
        "\n"
      ]
    },
    {
      "cell_type": "code",
      "execution_count": null,
      "metadata": {
        "id": "e43D4Lja0sT4"
      },
      "outputs": [],
      "source": []
    }
  ],
  "metadata": {
    "accelerator": "GPU",
    "colab": {
      "gpuType": "T4",
      "provenance": []
    },
    "kernelspec": {
      "display_name": "Python 3",
      "name": "python3"
    },
    "language_info": {
      "codemirror_mode": {
        "name": "ipython",
        "version": 3
      },
      "file_extension": ".py",
      "mimetype": "text/x-python",
      "name": "python",
      "nbconvert_exporter": "python",
      "pygments_lexer": "ipython3",
      "version": "3.10.2"
    }
  },
  "nbformat": 4,
  "nbformat_minor": 0
}
